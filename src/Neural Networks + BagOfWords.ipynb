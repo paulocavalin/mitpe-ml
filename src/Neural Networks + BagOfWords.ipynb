{
 "cells": [
  {
   "cell_type": "markdown",
   "id": "17b6856b",
   "metadata": {},
   "source": [
    "#### Load required libs"
   ]
  },
  {
   "cell_type": "code",
   "execution_count": 68,
   "id": "645c3f14",
   "metadata": {},
   "outputs": [],
   "source": [
    "import json\n",
    "\n",
    "import nltk\n",
    "\n",
    "from scipy.sparse import coo_matrix\n",
    "import numpy as np\n",
    "\n",
    "from sklearn.linear_model import LogisticRegression\n",
    "from sklearn.metrics import accuracy_score\n",
    "from sklearn.neural_network import MLPClassifier"
   ]
  },
  {
   "cell_type": "markdown",
   "id": "6e3a0b2c",
   "metadata": {},
   "source": [
    "### Load data\n",
    "\n",
    "Dowload data from https://github.com/clinc/oos-eval/"
   ]
  },
  {
   "cell_type": "code",
   "execution_count": 7,
   "id": "511937f2",
   "metadata": {},
   "outputs": [
    {
     "name": "stdout",
     "output_type": "stream",
     "text": [
      "dict_keys(['oos_val', 'val', 'train', 'oos_test', 'test', 'oos_train'])\n"
     ]
    }
   ],
   "source": [
    "f = open('../data/data_small.json')\n",
    "\n",
    "data = json.load(f)\n",
    "\n",
    "print(data.keys())"
   ]
  },
  {
   "cell_type": "code",
   "execution_count": 9,
   "id": "5eeca003",
   "metadata": {},
   "outputs": [
    {
     "data": {
      "text/plain": [
       "[['can you walk me through setting up direct deposits to my bank of internet savings account',\n",
       "  'direct_deposit'],\n",
       " ['i want to switch to direct deposit', 'direct_deposit'],\n",
       " ['set up direct deposit for me', 'direct_deposit'],\n",
       " ['how do i go about setting up direct deposit', 'direct_deposit'],\n",
       " ['i need to get my paycheck direct deposited to my chase account',\n",
       "  'direct_deposit'],\n",
       " ['what are the steps to set up direct deposit to my chase account',\n",
       "  'direct_deposit'],\n",
       " ['if i would like to set up direct deposit, how do i do it',\n",
       "  'direct_deposit'],\n",
       " ['how do i direct deposit my check', 'direct_deposit'],\n",
       " ['what do i need to set up direct deposit', 'direct_deposit'],\n",
       " [\"i'd like to have my paycheck direct deposited to my chase account\",\n",
       "  'direct_deposit']]"
      ]
     },
     "execution_count": 9,
     "metadata": {},
     "output_type": "execute_result"
    }
   ],
   "source": [
    "data['train'][:10]"
   ]
  },
  {
   "cell_type": "code",
   "execution_count": 10,
   "id": "c8c822a8",
   "metadata": {},
   "outputs": [],
   "source": [
    "def get_dataset(data, dataset='train'):\n",
    "    X = []\n",
    "    Y = []\n",
    "    for sample in data[dataset]:\n",
    "        X.append(sample[0])\n",
    "        Y.append(sample[1])\n",
    "        \n",
    "    return X, Y"
   ]
  },
  {
   "cell_type": "code",
   "execution_count": 33,
   "id": "46343f21",
   "metadata": {},
   "outputs": [],
   "source": [
    "X_raw = {}\n",
    "Y = {}\n",
    "\n",
    "datasets = ['train', 'val', 'test']\n",
    "\n",
    "for dataset in datasets:\n",
    "    X_raw[dataset], Y[dataset] = get_dataset(data, dataset)"
   ]
  },
  {
   "cell_type": "markdown",
   "id": "2d9c15ff",
   "metadata": {},
   "source": [
    "### Build vocabulary"
   ]
  },
  {
   "cell_type": "code",
   "execution_count": 17,
   "id": "6ceb26a9",
   "metadata": {},
   "outputs": [],
   "source": [
    "vocabulary = {}\n",
    "\n",
    "for text in X_raw['train']:\n",
    "    \n",
    "    tokens = nltk.word_tokenize(text)\n",
    "    \n",
    "    for token in tokens:\n",
    "        if token not in vocabulary:\n",
    "            # add to vocabulary and set with a unique ID\n",
    "            vocabulary[ token ] = len(vocabulary)"
   ]
  },
  {
   "cell_type": "markdown",
   "id": "72b684f6",
   "metadata": {},
   "source": [
    "### Convert raw texts to Bag-of-Words"
   ]
  },
  {
   "cell_type": "code",
   "execution_count": 18,
   "id": "9a4c0e1b",
   "metadata": {},
   "outputs": [],
   "source": [
    "def raw2ids(texts, vocabulary):\n",
    "    \n",
    "    X_bow = []\n",
    "    for text in texts:\n",
    "        tokens = nltk.word_tokenize(text)\n",
    "        \n",
    "        X_bow.append( [ vocabulary[token] for token in tokens if token in vocabulary ] )\n",
    "        \n",
    "    return X_bow"
   ]
  },
  {
   "cell_type": "code",
   "execution_count": 22,
   "id": "f262769e",
   "metadata": {},
   "outputs": [],
   "source": [
    "X_bow = {}\n",
    "\n",
    "for dataset in datasets:\n",
    "    X_bow[dataset] = raw2ids(X_raw[dataset], vocabulary)"
   ]
  },
  {
   "cell_type": "code",
   "execution_count": 24,
   "id": "8bdff5bb",
   "metadata": {},
   "outputs": [
    {
     "data": {
      "text/plain": [
       "[[0, 1, 2, 3, 4, 5, 6, 7, 8, 9, 10, 11, 12, 13, 14, 15],\n",
       " [16, 17, 9, 18, 9, 7, 19],\n",
       " [20, 6, 7, 19, 21, 3],\n",
       " [22, 23, 16, 24, 25, 5, 6, 7, 19],\n",
       " [16, 26, 9, 27, 10, 28, 7, 29, 9, 10, 30, 15],\n",
       " [31, 32, 33, 34, 9, 20, 6, 7, 19, 9, 10, 30, 15],\n",
       " [35, 16, 36, 37, 9, 20, 6, 7, 19, 38, 22, 23, 16, 23, 39],\n",
       " [22, 23, 16, 7, 19, 10, 40],\n",
       " [31, 23, 16, 26, 9, 20, 6, 7, 19],\n",
       " [16, 41, 37, 9, 42, 10, 28, 7, 29, 9, 10, 30, 15]]"
      ]
     },
     "execution_count": 24,
     "metadata": {},
     "output_type": "execute_result"
    }
   ],
   "source": [
    "X['train'][:10]"
   ]
  },
  {
   "cell_type": "markdown",
   "id": "691c129d",
   "metadata": {},
   "source": [
    "### Convert to a sparse matrix"
   ]
  },
  {
   "cell_type": "code",
   "execution_count": 29,
   "id": "f3ae4a4d",
   "metadata": {},
   "outputs": [],
   "source": [
    "X = {}\n",
    "\n",
    "for dataset in datasets:\n",
    "    \n",
    "    rows = []\n",
    "    cols = []\n",
    "    bow_data = []\n",
    "    \n",
    "    for sample_id, token_ids in enumerate(X_bow[dataset]):\n",
    "        for token_id in token_ids:\n",
    "            rows.append(sample_id)\n",
    "            cols.append(token_id)\n",
    "            bow_data.append( 1 )\n",
    "            \n",
    "    X[dataset] = coo_matrix((bow_data, (rows, cols)), shape=(len(X_bow[dataset]), len(vocabulary)))"
   ]
  },
  {
   "cell_type": "markdown",
   "id": "15386573",
   "metadata": {},
   "source": [
    "## Train and evaluate classifiers"
   ]
  },
  {
   "cell_type": "code",
   "execution_count": 45,
   "id": "bbf13164",
   "metadata": {},
   "outputs": [],
   "source": [
    "def train_and_evaluate_classifier(clf, X_train, Y_train, X_test, Y_test):\n",
    "    clf.fit(X_train, Y_train)\n",
    "    y_pred = clf.predict(X_test)\n",
    "    \n",
    "    print(f'Accuracy: {accuracy_score(Y_test, y_pred)}')\n",
    "    \n",
    "    y_probs = clf.predict_proba(X_test)[:, 1]"
   ]
  },
  {
   "cell_type": "code",
   "execution_count": 46,
   "id": "83eb136c",
   "metadata": {},
   "outputs": [
    {
     "name": "stdout",
     "output_type": "stream",
     "text": [
      "Accuracy: 0.8791111111111111\n"
     ]
    }
   ],
   "source": [
    "train_and_evaluate_classifier( LogisticRegression(random_state=0), X['train'], Y['train'], X['test'], Y['test'])"
   ]
  },
  {
   "cell_type": "code",
   "execution_count": 50,
   "id": "6c5c7421",
   "metadata": {},
   "outputs": [
    {
     "name": "stdout",
     "output_type": "stream",
     "text": [
      "Iteration 1, loss = 4.92711359\n",
      "Validation score: 0.244000\n",
      "Iteration 2, loss = 4.55208122\n",
      "Validation score: 0.577333\n",
      "Iteration 3, loss = 3.94025841\n",
      "Validation score: 0.708000\n",
      "Iteration 4, loss = 3.13677975\n",
      "Validation score: 0.785333\n",
      "Iteration 5, loss = 2.27871093\n",
      "Validation score: 0.837333\n",
      "Iteration 6, loss = 1.57632713\n",
      "Validation score: 0.856000\n",
      "Iteration 7, loss = 1.10201699\n",
      "Validation score: 0.868000\n",
      "Iteration 8, loss = 0.80392620\n",
      "Validation score: 0.884000\n",
      "Iteration 9, loss = 0.61165137\n",
      "Validation score: 0.890667\n",
      "Iteration 10, loss = 0.48219158\n",
      "Validation score: 0.889333\n",
      "Iteration 11, loss = 0.39000155\n",
      "Validation score: 0.894667\n",
      "Iteration 12, loss = 0.32163665\n",
      "Validation score: 0.897333\n",
      "Iteration 13, loss = 0.27087143\n",
      "Validation score: 0.902667\n",
      "Iteration 14, loss = 0.23025345\n",
      "Validation score: 0.910667\n",
      "Iteration 15, loss = 0.19826152\n",
      "Validation score: 0.912000\n",
      "Iteration 16, loss = 0.17223923\n",
      "Validation score: 0.912000\n",
      "Iteration 17, loss = 0.15072341\n",
      "Validation score: 0.910667\n",
      "Iteration 18, loss = 0.13323153\n",
      "Validation score: 0.914667\n",
      "Iteration 19, loss = 0.11845449\n",
      "Validation score: 0.914667\n",
      "Iteration 20, loss = 0.10606254\n",
      "Validation score: 0.914667\n",
      "Iteration 21, loss = 0.09517556\n",
      "Validation score: 0.916000\n",
      "Iteration 22, loss = 0.08587276\n",
      "Validation score: 0.916000\n",
      "Iteration 23, loss = 0.07801803\n",
      "Validation score: 0.917333\n",
      "Iteration 24, loss = 0.07117696\n",
      "Validation score: 0.916000\n",
      "Iteration 25, loss = 0.06495287\n",
      "Validation score: 0.918667\n",
      "Iteration 26, loss = 0.05981615\n",
      "Validation score: 0.918667\n",
      "Iteration 27, loss = 0.05502330\n",
      "Validation score: 0.918667\n",
      "Iteration 28, loss = 0.05091071\n",
      "Validation score: 0.918667\n",
      "Iteration 29, loss = 0.04716518\n",
      "Validation score: 0.917333\n",
      "Iteration 30, loss = 0.04376562\n",
      "Validation score: 0.916000\n",
      "Iteration 31, loss = 0.04083036\n",
      "Validation score: 0.917333\n",
      "Iteration 32, loss = 0.03822874\n",
      "Validation score: 0.917333\n",
      "Iteration 33, loss = 0.03580962\n",
      "Validation score: 0.917333\n",
      "Iteration 34, loss = 0.03356707\n",
      "Validation score: 0.917333\n",
      "Iteration 35, loss = 0.03165461\n",
      "Validation score: 0.916000\n",
      "Iteration 36, loss = 0.02988892\n",
      "Validation score: 0.917333\n",
      "Validation score did not improve more than tol=0.000100 for 10 consecutive epochs. Stopping.\n",
      "Accuracy: 0.8911111111111111\n"
     ]
    }
   ],
   "source": [
    "train_and_evaluate_classifier( MLPClassifier(random_state=1, max_iter=300, early_stopping=True, verbose=True), X['train'], Y['train'], X['test'], Y['test'])"
   ]
  },
  {
   "cell_type": "markdown",
   "id": "1e8b38ad",
   "metadata": {},
   "source": [
    "### Train and classify new samples"
   ]
  },
  {
   "cell_type": "code",
   "execution_count": 51,
   "id": "bce5fefa",
   "metadata": {},
   "outputs": [],
   "source": [
    "clf = MLPClassifier(random_state=1, max_iter=300, early_stopping=True, verbose=True)"
   ]
  },
  {
   "cell_type": "code",
   "execution_count": 52,
   "id": "4617790b",
   "metadata": {
    "scrolled": true
   },
   "outputs": [
    {
     "name": "stdout",
     "output_type": "stream",
     "text": [
      "Iteration 1, loss = 4.92711359\n",
      "Validation score: 0.244000\n",
      "Iteration 2, loss = 4.55208122\n",
      "Validation score: 0.577333\n",
      "Iteration 3, loss = 3.94025841\n",
      "Validation score: 0.708000\n",
      "Iteration 4, loss = 3.13677975\n",
      "Validation score: 0.785333\n",
      "Iteration 5, loss = 2.27871093\n",
      "Validation score: 0.837333\n",
      "Iteration 6, loss = 1.57632713\n",
      "Validation score: 0.856000\n",
      "Iteration 7, loss = 1.10201699\n",
      "Validation score: 0.868000\n",
      "Iteration 8, loss = 0.80392620\n",
      "Validation score: 0.884000\n",
      "Iteration 9, loss = 0.61165137\n",
      "Validation score: 0.890667\n",
      "Iteration 10, loss = 0.48219158\n",
      "Validation score: 0.889333\n",
      "Iteration 11, loss = 0.39000155\n",
      "Validation score: 0.894667\n",
      "Iteration 12, loss = 0.32163665\n",
      "Validation score: 0.897333\n",
      "Iteration 13, loss = 0.27087143\n",
      "Validation score: 0.902667\n",
      "Iteration 14, loss = 0.23025345\n",
      "Validation score: 0.910667\n",
      "Iteration 15, loss = 0.19826152\n",
      "Validation score: 0.912000\n",
      "Iteration 16, loss = 0.17223923\n",
      "Validation score: 0.912000\n",
      "Iteration 17, loss = 0.15072341\n",
      "Validation score: 0.910667\n",
      "Iteration 18, loss = 0.13323153\n",
      "Validation score: 0.914667\n",
      "Iteration 19, loss = 0.11845449\n",
      "Validation score: 0.914667\n",
      "Iteration 20, loss = 0.10606254\n",
      "Validation score: 0.914667\n",
      "Iteration 21, loss = 0.09517556\n",
      "Validation score: 0.916000\n",
      "Iteration 22, loss = 0.08587276\n",
      "Validation score: 0.916000\n",
      "Iteration 23, loss = 0.07801803\n",
      "Validation score: 0.917333\n",
      "Iteration 24, loss = 0.07117696\n",
      "Validation score: 0.916000\n",
      "Iteration 25, loss = 0.06495287\n",
      "Validation score: 0.918667\n",
      "Iteration 26, loss = 0.05981615\n",
      "Validation score: 0.918667\n",
      "Iteration 27, loss = 0.05502330\n",
      "Validation score: 0.918667\n",
      "Iteration 28, loss = 0.05091071\n",
      "Validation score: 0.918667\n",
      "Iteration 29, loss = 0.04716518\n",
      "Validation score: 0.917333\n",
      "Iteration 30, loss = 0.04376562\n",
      "Validation score: 0.916000\n",
      "Iteration 31, loss = 0.04083036\n",
      "Validation score: 0.917333\n",
      "Iteration 32, loss = 0.03822874\n",
      "Validation score: 0.917333\n",
      "Iteration 33, loss = 0.03580962\n",
      "Validation score: 0.917333\n",
      "Iteration 34, loss = 0.03356707\n",
      "Validation score: 0.917333\n",
      "Iteration 35, loss = 0.03165461\n",
      "Validation score: 0.916000\n",
      "Iteration 36, loss = 0.02988892\n",
      "Validation score: 0.917333\n",
      "Validation score did not improve more than tol=0.000100 for 10 consecutive epochs. Stopping.\n"
     ]
    },
    {
     "data": {
      "text/html": [
       "<style>#sk-container-id-1 {color: black;background-color: white;}#sk-container-id-1 pre{padding: 0;}#sk-container-id-1 div.sk-toggleable {background-color: white;}#sk-container-id-1 label.sk-toggleable__label {cursor: pointer;display: block;width: 100%;margin-bottom: 0;padding: 0.3em;box-sizing: border-box;text-align: center;}#sk-container-id-1 label.sk-toggleable__label-arrow:before {content: \"▸\";float: left;margin-right: 0.25em;color: #696969;}#sk-container-id-1 label.sk-toggleable__label-arrow:hover:before {color: black;}#sk-container-id-1 div.sk-estimator:hover label.sk-toggleable__label-arrow:before {color: black;}#sk-container-id-1 div.sk-toggleable__content {max-height: 0;max-width: 0;overflow: hidden;text-align: left;background-color: #f0f8ff;}#sk-container-id-1 div.sk-toggleable__content pre {margin: 0.2em;color: black;border-radius: 0.25em;background-color: #f0f8ff;}#sk-container-id-1 input.sk-toggleable__control:checked~div.sk-toggleable__content {max-height: 200px;max-width: 100%;overflow: auto;}#sk-container-id-1 input.sk-toggleable__control:checked~label.sk-toggleable__label-arrow:before {content: \"▾\";}#sk-container-id-1 div.sk-estimator input.sk-toggleable__control:checked~label.sk-toggleable__label {background-color: #d4ebff;}#sk-container-id-1 div.sk-label input.sk-toggleable__control:checked~label.sk-toggleable__label {background-color: #d4ebff;}#sk-container-id-1 input.sk-hidden--visually {border: 0;clip: rect(1px 1px 1px 1px);clip: rect(1px, 1px, 1px, 1px);height: 1px;margin: -1px;overflow: hidden;padding: 0;position: absolute;width: 1px;}#sk-container-id-1 div.sk-estimator {font-family: monospace;background-color: #f0f8ff;border: 1px dotted black;border-radius: 0.25em;box-sizing: border-box;margin-bottom: 0.5em;}#sk-container-id-1 div.sk-estimator:hover {background-color: #d4ebff;}#sk-container-id-1 div.sk-parallel-item::after {content: \"\";width: 100%;border-bottom: 1px solid gray;flex-grow: 1;}#sk-container-id-1 div.sk-label:hover label.sk-toggleable__label {background-color: #d4ebff;}#sk-container-id-1 div.sk-serial::before {content: \"\";position: absolute;border-left: 1px solid gray;box-sizing: border-box;top: 0;bottom: 0;left: 50%;z-index: 0;}#sk-container-id-1 div.sk-serial {display: flex;flex-direction: column;align-items: center;background-color: white;padding-right: 0.2em;padding-left: 0.2em;position: relative;}#sk-container-id-1 div.sk-item {position: relative;z-index: 1;}#sk-container-id-1 div.sk-parallel {display: flex;align-items: stretch;justify-content: center;background-color: white;position: relative;}#sk-container-id-1 div.sk-item::before, #sk-container-id-1 div.sk-parallel-item::before {content: \"\";position: absolute;border-left: 1px solid gray;box-sizing: border-box;top: 0;bottom: 0;left: 50%;z-index: -1;}#sk-container-id-1 div.sk-parallel-item {display: flex;flex-direction: column;z-index: 1;position: relative;background-color: white;}#sk-container-id-1 div.sk-parallel-item:first-child::after {align-self: flex-end;width: 50%;}#sk-container-id-1 div.sk-parallel-item:last-child::after {align-self: flex-start;width: 50%;}#sk-container-id-1 div.sk-parallel-item:only-child::after {width: 0;}#sk-container-id-1 div.sk-dashed-wrapped {border: 1px dashed gray;margin: 0 0.4em 0.5em 0.4em;box-sizing: border-box;padding-bottom: 0.4em;background-color: white;}#sk-container-id-1 div.sk-label label {font-family: monospace;font-weight: bold;display: inline-block;line-height: 1.2em;}#sk-container-id-1 div.sk-label-container {text-align: center;}#sk-container-id-1 div.sk-container {/* jupyter's `normalize.less` sets `[hidden] { display: none; }` but bootstrap.min.css set `[hidden] { display: none !important; }` so we also need the `!important` here to be able to override the default hidden behavior on the sphinx rendered scikit-learn.org. See: https://github.com/scikit-learn/scikit-learn/issues/21755 */display: inline-block !important;position: relative;}#sk-container-id-1 div.sk-text-repr-fallback {display: none;}</style><div id=\"sk-container-id-1\" class=\"sk-top-container\"><div class=\"sk-text-repr-fallback\"><pre>MLPClassifier(early_stopping=True, max_iter=300, random_state=1, verbose=True)</pre><b>In a Jupyter environment, please rerun this cell to show the HTML representation or trust the notebook. <br />On GitHub, the HTML representation is unable to render, please try loading this page with nbviewer.org.</b></div><div class=\"sk-container\" hidden><div class=\"sk-item\"><div class=\"sk-estimator sk-toggleable\"><input class=\"sk-toggleable__control sk-hidden--visually\" id=\"sk-estimator-id-1\" type=\"checkbox\" checked><label for=\"sk-estimator-id-1\" class=\"sk-toggleable__label sk-toggleable__label-arrow\">MLPClassifier</label><div class=\"sk-toggleable__content\"><pre>MLPClassifier(early_stopping=True, max_iter=300, random_state=1, verbose=True)</pre></div></div></div></div></div>"
      ],
      "text/plain": [
       "MLPClassifier(early_stopping=True, max_iter=300, random_state=1, verbose=True)"
      ]
     },
     "execution_count": 52,
     "metadata": {},
     "output_type": "execute_result"
    }
   ],
   "source": [
    "clf.fit( X['train'], Y['train'] )"
   ]
  },
  {
   "cell_type": "code",
   "execution_count": 57,
   "id": "e1c1a5d5",
   "metadata": {},
   "outputs": [],
   "source": [
    "def sample2sparsebow(text, vocabulary):\n",
    "    token_ids = raw2ids([text], vocabulary)[0]\n",
    "    \n",
    "    row = []\n",
    "    col = []\n",
    "    data = []\n",
    "    for token_id in token_ids:\n",
    "        row.append( 0 )\n",
    "        col.append(token_id)\n",
    "        data.append( 1 )\n",
    "\n",
    "    return coo_matrix((data, (row, col)), shape=(1, len(vocabulary)))"
   ]
  },
  {
   "cell_type": "code",
   "execution_count": 64,
   "id": "17154d33",
   "metadata": {},
   "outputs": [
    {
     "data": {
      "text/plain": [
       "[['how would you say fly in italian', 'translate'],\n",
       " [\"what's the spanish word for pasta\", 'translate'],\n",
       " ['how would they say butter in zambia', 'translate'],\n",
       " ['how do you say fast in spanish', 'translate'],\n",
       " [\"what's the word for trees in norway\", 'translate'],\n",
       " ['how does one say wonderful in german', 'translate'],\n",
       " ['how do they say tacos in mexico', 'translate'],\n",
       " ['how would one say cruiser in china', 'translate'],\n",
       " [\"what's the french word you use for potato\", 'translate'],\n",
       " ['what would the word for grass be in finland', 'translate']]"
      ]
     },
     "execution_count": 64,
     "metadata": {},
     "output_type": "execute_result"
    }
   ],
   "source": [
    "data['test'][:10]"
   ]
  },
  {
   "cell_type": "code",
   "execution_count": 77,
   "id": "120598e7",
   "metadata": {},
   "outputs": [
    {
     "name": "stdout",
     "output_type": "stream",
     "text": [
      "['fun_fact']\n"
     ]
    },
    {
     "data": {
      "text/plain": [
       "[('fun_fact', 0.21351375483378932),\n",
       " ('tell_joke', 0.1016862062356891),\n",
       " ('nutrition_info', 0.03668497376784672),\n",
       " ('what_can_i_ask_you', 0.02393525224901844),\n",
       " ('income', 0.02341061493186106),\n",
       " ('user_name', 0.021216043636866376),\n",
       " ('greeting', 0.018053634707703936),\n",
       " ('restaurant_reviews', 0.017634399988995103),\n",
       " ('transactions', 0.017045181252974658),\n",
       " ('reminder', 0.014927251780542198)]"
      ]
     },
     "execution_count": 77,
     "metadata": {},
     "output_type": "execute_result"
    }
   ],
   "source": [
    "text = 'Could you bring me more info about direct deposits?'\n",
    "#text = 'how would you say fly in italian'\n",
    "text = 'tell me about chatgpt'\n",
    "\n",
    "print(clf.predict( sample2sparsebow(text, vocabulary) ))\n",
    "sorted( zip( clf.classes_, clf.predict_proba( sample2sparsebow(text, vocabulary) )[0] ), key=lambda x:x[1], reverse=True )[:10]"
   ]
  },
  {
   "cell_type": "code",
   "execution_count": null,
   "id": "73763d54",
   "metadata": {},
   "outputs": [],
   "source": []
  }
 ],
 "metadata": {
  "kernelspec": {
   "display_name": "Python 3 (ipykernel)",
   "language": "python",
   "name": "python3"
  },
  "language_info": {
   "codemirror_mode": {
    "name": "ipython",
    "version": 3
   },
   "file_extension": ".py",
   "mimetype": "text/x-python",
   "name": "python",
   "nbconvert_exporter": "python",
   "pygments_lexer": "ipython3",
   "version": "3.9.12"
  }
 },
 "nbformat": 4,
 "nbformat_minor": 5
}
