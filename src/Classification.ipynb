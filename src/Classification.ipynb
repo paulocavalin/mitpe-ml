{
  "cells": [
    {
      "cell_type": "markdown",
      "metadata": {
        "id": "view-in-github",
        "colab_type": "text"
      },
      "source": [
        "<a href=\"https://colab.research.google.com/github/paulocavalin/mitpe-ml/blob/main/src/Classification.ipynb\" target=\"_parent\"><img src=\"https://colab.research.google.com/assets/colab-badge.svg\" alt=\"Open In Colab\"/></a>"
      ]
    },
    {
      "cell_type": "code",
      "execution_count": 1,
      "id": "815f5944-fc1c-4367-9e9c-d7dd452bdd2b",
      "metadata": {
        "id": "815f5944-fc1c-4367-9e9c-d7dd452bdd2b"
      },
      "outputs": [],
      "source": [
        "import pandas as pd\n",
        "import numpy as np"
      ]
    },
    {
      "cell_type": "markdown",
      "id": "fafd6f27-1a77-4763-96c3-0b5e8a126a41",
      "metadata": {
        "id": "fafd6f27-1a77-4763-96c3-0b5e8a126a41"
      },
      "source": [
        "### Load tik tac toe dataset"
      ]
    },
    {
      "cell_type": "code",
      "source": [
        "!wget -cv https://archive.ics.uci.edu/ml/machine-learning-databases/tic-tac-toe/tic-tac-toe.data"
      ],
      "metadata": {
        "id": "wYmA3v2Stn_C",
        "outputId": "fe9ba111-b073-4a3b-b6dc-0f36634e872f",
        "colab": {
          "base_uri": "https://localhost:8080/"
        }
      },
      "id": "wYmA3v2Stn_C",
      "execution_count": 4,
      "outputs": [
        {
          "output_type": "stream",
          "name": "stdout",
          "text": [
            "--2023-05-22 13:47:15--  https://archive.ics.uci.edu/ml/machine-learning-databases/tic-tac-toe/tic-tac-toe.data\n",
            "Resolving archive.ics.uci.edu (archive.ics.uci.edu)... 128.195.10.252\n",
            "Connecting to archive.ics.uci.edu (archive.ics.uci.edu)|128.195.10.252|:443... connected.\n",
            "HTTP request sent, awaiting response... 200 OK\n",
            "Length: 25866 (25K) [application/x-httpd-php]\n",
            "Saving to: ‘tic-tac-toe.data’\n",
            "\n",
            "tic-tac-toe.data    100%[===================>]  25.26K  --.-KB/s    in 0.1s    \n",
            "\n",
            "2023-05-22 13:47:16 (196 KB/s) - ‘tic-tac-toe.data’ saved [25866/25866]\n",
            "\n"
          ]
        }
      ]
    },
    {
      "cell_type": "code",
      "execution_count": 5,
      "id": "9b4f2b29-d3e2-4e13-a916-f25686a33bcf",
      "metadata": {
        "id": "9b4f2b29-d3e2-4e13-a916-f25686a33bcf"
      },
      "outputs": [],
      "source": [
        "df = pd.read_csv('tic-tac-toe.data')"
      ]
    },
    {
      "cell_type": "code",
      "execution_count": 6,
      "id": "274c2b06-cd8c-4f96-86f1-420d664b6d6f",
      "metadata": {
        "id": "274c2b06-cd8c-4f96-86f1-420d664b6d6f",
        "outputId": "77b3c58b-4785-45e6-c45b-bf3130239744",
        "colab": {
          "base_uri": "https://localhost:8080/",
          "height": 424
        }
      },
      "outputs": [
        {
          "output_type": "execute_result",
          "data": {
            "text/plain": [
              "     x x.1 x.2 x.3  o o.1 x.4 o.2 o.3  positive\n",
              "0    x   x   x   x  o   o   o   x   o  positive\n",
              "1    x   x   x   x  o   o   o   o   x  positive\n",
              "2    x   x   x   x  o   o   o   b   b  positive\n",
              "3    x   x   x   x  o   o   b   o   b  positive\n",
              "4    x   x   x   x  o   o   b   b   o  positive\n",
              "..  ..  ..  ..  .. ..  ..  ..  ..  ..       ...\n",
              "952  o   x   x   x  o   o   o   x   x  negative\n",
              "953  o   x   o   x  x   o   x   o   x  negative\n",
              "954  o   x   o   x  o   x   x   o   x  negative\n",
              "955  o   x   o   o  x   x   x   o   x  negative\n",
              "956  o   o   x   x  x   o   o   x   x  negative\n",
              "\n",
              "[957 rows x 10 columns]"
            ],
            "text/html": [
              "\n",
              "  <div id=\"df-61cf4656-e60c-4f1f-916f-bec82e7dab58\">\n",
              "    <div class=\"colab-df-container\">\n",
              "      <div>\n",
              "<style scoped>\n",
              "    .dataframe tbody tr th:only-of-type {\n",
              "        vertical-align: middle;\n",
              "    }\n",
              "\n",
              "    .dataframe tbody tr th {\n",
              "        vertical-align: top;\n",
              "    }\n",
              "\n",
              "    .dataframe thead th {\n",
              "        text-align: right;\n",
              "    }\n",
              "</style>\n",
              "<table border=\"1\" class=\"dataframe\">\n",
              "  <thead>\n",
              "    <tr style=\"text-align: right;\">\n",
              "      <th></th>\n",
              "      <th>x</th>\n",
              "      <th>x.1</th>\n",
              "      <th>x.2</th>\n",
              "      <th>x.3</th>\n",
              "      <th>o</th>\n",
              "      <th>o.1</th>\n",
              "      <th>x.4</th>\n",
              "      <th>o.2</th>\n",
              "      <th>o.3</th>\n",
              "      <th>positive</th>\n",
              "    </tr>\n",
              "  </thead>\n",
              "  <tbody>\n",
              "    <tr>\n",
              "      <th>0</th>\n",
              "      <td>x</td>\n",
              "      <td>x</td>\n",
              "      <td>x</td>\n",
              "      <td>x</td>\n",
              "      <td>o</td>\n",
              "      <td>o</td>\n",
              "      <td>o</td>\n",
              "      <td>x</td>\n",
              "      <td>o</td>\n",
              "      <td>positive</td>\n",
              "    </tr>\n",
              "    <tr>\n",
              "      <th>1</th>\n",
              "      <td>x</td>\n",
              "      <td>x</td>\n",
              "      <td>x</td>\n",
              "      <td>x</td>\n",
              "      <td>o</td>\n",
              "      <td>o</td>\n",
              "      <td>o</td>\n",
              "      <td>o</td>\n",
              "      <td>x</td>\n",
              "      <td>positive</td>\n",
              "    </tr>\n",
              "    <tr>\n",
              "      <th>2</th>\n",
              "      <td>x</td>\n",
              "      <td>x</td>\n",
              "      <td>x</td>\n",
              "      <td>x</td>\n",
              "      <td>o</td>\n",
              "      <td>o</td>\n",
              "      <td>o</td>\n",
              "      <td>b</td>\n",
              "      <td>b</td>\n",
              "      <td>positive</td>\n",
              "    </tr>\n",
              "    <tr>\n",
              "      <th>3</th>\n",
              "      <td>x</td>\n",
              "      <td>x</td>\n",
              "      <td>x</td>\n",
              "      <td>x</td>\n",
              "      <td>o</td>\n",
              "      <td>o</td>\n",
              "      <td>b</td>\n",
              "      <td>o</td>\n",
              "      <td>b</td>\n",
              "      <td>positive</td>\n",
              "    </tr>\n",
              "    <tr>\n",
              "      <th>4</th>\n",
              "      <td>x</td>\n",
              "      <td>x</td>\n",
              "      <td>x</td>\n",
              "      <td>x</td>\n",
              "      <td>o</td>\n",
              "      <td>o</td>\n",
              "      <td>b</td>\n",
              "      <td>b</td>\n",
              "      <td>o</td>\n",
              "      <td>positive</td>\n",
              "    </tr>\n",
              "    <tr>\n",
              "      <th>...</th>\n",
              "      <td>...</td>\n",
              "      <td>...</td>\n",
              "      <td>...</td>\n",
              "      <td>...</td>\n",
              "      <td>...</td>\n",
              "      <td>...</td>\n",
              "      <td>...</td>\n",
              "      <td>...</td>\n",
              "      <td>...</td>\n",
              "      <td>...</td>\n",
              "    </tr>\n",
              "    <tr>\n",
              "      <th>952</th>\n",
              "      <td>o</td>\n",
              "      <td>x</td>\n",
              "      <td>x</td>\n",
              "      <td>x</td>\n",
              "      <td>o</td>\n",
              "      <td>o</td>\n",
              "      <td>o</td>\n",
              "      <td>x</td>\n",
              "      <td>x</td>\n",
              "      <td>negative</td>\n",
              "    </tr>\n",
              "    <tr>\n",
              "      <th>953</th>\n",
              "      <td>o</td>\n",
              "      <td>x</td>\n",
              "      <td>o</td>\n",
              "      <td>x</td>\n",
              "      <td>x</td>\n",
              "      <td>o</td>\n",
              "      <td>x</td>\n",
              "      <td>o</td>\n",
              "      <td>x</td>\n",
              "      <td>negative</td>\n",
              "    </tr>\n",
              "    <tr>\n",
              "      <th>954</th>\n",
              "      <td>o</td>\n",
              "      <td>x</td>\n",
              "      <td>o</td>\n",
              "      <td>x</td>\n",
              "      <td>o</td>\n",
              "      <td>x</td>\n",
              "      <td>x</td>\n",
              "      <td>o</td>\n",
              "      <td>x</td>\n",
              "      <td>negative</td>\n",
              "    </tr>\n",
              "    <tr>\n",
              "      <th>955</th>\n",
              "      <td>o</td>\n",
              "      <td>x</td>\n",
              "      <td>o</td>\n",
              "      <td>o</td>\n",
              "      <td>x</td>\n",
              "      <td>x</td>\n",
              "      <td>x</td>\n",
              "      <td>o</td>\n",
              "      <td>x</td>\n",
              "      <td>negative</td>\n",
              "    </tr>\n",
              "    <tr>\n",
              "      <th>956</th>\n",
              "      <td>o</td>\n",
              "      <td>o</td>\n",
              "      <td>x</td>\n",
              "      <td>x</td>\n",
              "      <td>x</td>\n",
              "      <td>o</td>\n",
              "      <td>o</td>\n",
              "      <td>x</td>\n",
              "      <td>x</td>\n",
              "      <td>negative</td>\n",
              "    </tr>\n",
              "  </tbody>\n",
              "</table>\n",
              "<p>957 rows × 10 columns</p>\n",
              "</div>\n",
              "      <button class=\"colab-df-convert\" onclick=\"convertToInteractive('df-61cf4656-e60c-4f1f-916f-bec82e7dab58')\"\n",
              "              title=\"Convert this dataframe to an interactive table.\"\n",
              "              style=\"display:none;\">\n",
              "        \n",
              "  <svg xmlns=\"http://www.w3.org/2000/svg\" height=\"24px\"viewBox=\"0 0 24 24\"\n",
              "       width=\"24px\">\n",
              "    <path d=\"M0 0h24v24H0V0z\" fill=\"none\"/>\n",
              "    <path d=\"M18.56 5.44l.94 2.06.94-2.06 2.06-.94-2.06-.94-.94-2.06-.94 2.06-2.06.94zm-11 1L8.5 8.5l.94-2.06 2.06-.94-2.06-.94L8.5 2.5l-.94 2.06-2.06.94zm10 10l.94 2.06.94-2.06 2.06-.94-2.06-.94-.94-2.06-.94 2.06-2.06.94z\"/><path d=\"M17.41 7.96l-1.37-1.37c-.4-.4-.92-.59-1.43-.59-.52 0-1.04.2-1.43.59L10.3 9.45l-7.72 7.72c-.78.78-.78 2.05 0 2.83L4 21.41c.39.39.9.59 1.41.59.51 0 1.02-.2 1.41-.59l7.78-7.78 2.81-2.81c.8-.78.8-2.07 0-2.86zM5.41 20L4 18.59l7.72-7.72 1.47 1.35L5.41 20z\"/>\n",
              "  </svg>\n",
              "      </button>\n",
              "      \n",
              "  <style>\n",
              "    .colab-df-container {\n",
              "      display:flex;\n",
              "      flex-wrap:wrap;\n",
              "      gap: 12px;\n",
              "    }\n",
              "\n",
              "    .colab-df-convert {\n",
              "      background-color: #E8F0FE;\n",
              "      border: none;\n",
              "      border-radius: 50%;\n",
              "      cursor: pointer;\n",
              "      display: none;\n",
              "      fill: #1967D2;\n",
              "      height: 32px;\n",
              "      padding: 0 0 0 0;\n",
              "      width: 32px;\n",
              "    }\n",
              "\n",
              "    .colab-df-convert:hover {\n",
              "      background-color: #E2EBFA;\n",
              "      box-shadow: 0px 1px 2px rgba(60, 64, 67, 0.3), 0px 1px 3px 1px rgba(60, 64, 67, 0.15);\n",
              "      fill: #174EA6;\n",
              "    }\n",
              "\n",
              "    [theme=dark] .colab-df-convert {\n",
              "      background-color: #3B4455;\n",
              "      fill: #D2E3FC;\n",
              "    }\n",
              "\n",
              "    [theme=dark] .colab-df-convert:hover {\n",
              "      background-color: #434B5C;\n",
              "      box-shadow: 0px 1px 3px 1px rgba(0, 0, 0, 0.15);\n",
              "      filter: drop-shadow(0px 1px 2px rgba(0, 0, 0, 0.3));\n",
              "      fill: #FFFFFF;\n",
              "    }\n",
              "  </style>\n",
              "\n",
              "      <script>\n",
              "        const buttonEl =\n",
              "          document.querySelector('#df-61cf4656-e60c-4f1f-916f-bec82e7dab58 button.colab-df-convert');\n",
              "        buttonEl.style.display =\n",
              "          google.colab.kernel.accessAllowed ? 'block' : 'none';\n",
              "\n",
              "        async function convertToInteractive(key) {\n",
              "          const element = document.querySelector('#df-61cf4656-e60c-4f1f-916f-bec82e7dab58');\n",
              "          const dataTable =\n",
              "            await google.colab.kernel.invokeFunction('convertToInteractive',\n",
              "                                                     [key], {});\n",
              "          if (!dataTable) return;\n",
              "\n",
              "          const docLinkHtml = 'Like what you see? Visit the ' +\n",
              "            '<a target=\"_blank\" href=https://colab.research.google.com/notebooks/data_table.ipynb>data table notebook</a>'\n",
              "            + ' to learn more about interactive tables.';\n",
              "          element.innerHTML = '';\n",
              "          dataTable['output_type'] = 'display_data';\n",
              "          await google.colab.output.renderOutput(dataTable, element);\n",
              "          const docLink = document.createElement('div');\n",
              "          docLink.innerHTML = docLinkHtml;\n",
              "          element.appendChild(docLink);\n",
              "        }\n",
              "      </script>\n",
              "    </div>\n",
              "  </div>\n",
              "  "
            ]
          },
          "metadata": {},
          "execution_count": 6
        }
      ],
      "source": [
        "df"
      ]
    },
    {
      "cell_type": "code",
      "execution_count": null,
      "id": "afbd8820",
      "metadata": {
        "id": "afbd8820",
        "outputId": "b6d9a4d7-0b9d-48ef-c032-bb485346fe34"
      },
      "outputs": [
        {
          "data": {
            "text/plain": [
              "x           625\n",
              "x.1         625\n",
              "x.2         625\n",
              "x.3         625\n",
              "o           625\n",
              "o.1         625\n",
              "x.4         625\n",
              "o.2         625\n",
              "o.3         625\n",
              "positive    625\n",
              "dtype: int64"
            ]
          },
          "execution_count": 4,
          "metadata": {},
          "output_type": "execute_result"
        }
      ],
      "source": [
        " df.loc[df.positive == 'positive'].count()"
      ]
    },
    {
      "cell_type": "code",
      "execution_count": null,
      "id": "ef1ed4ad",
      "metadata": {
        "id": "ef1ed4ad",
        "outputId": "8ab5a77c-06c8-4bc3-d031-16bf5da9c437"
      },
      "outputs": [
        {
          "data": {
            "text/plain": [
              "x           332\n",
              "x.1         332\n",
              "x.2         332\n",
              "x.3         332\n",
              "o           332\n",
              "o.1         332\n",
              "x.4         332\n",
              "o.2         332\n",
              "o.3         332\n",
              "positive    332\n",
              "dtype: int64"
            ]
          },
          "execution_count": 5,
          "metadata": {},
          "output_type": "execute_result"
        }
      ],
      "source": [
        " df.loc[df.positive == 'negative'].count()"
      ]
    },
    {
      "cell_type": "markdown",
      "id": "1833697a-c1bd-4101-ae73-212ac0d4cebd",
      "metadata": {
        "id": "1833697a-c1bd-4101-ae73-212ac0d4cebd"
      },
      "source": [
        "### Extract data columns"
      ]
    },
    {
      "cell_type": "code",
      "execution_count": null,
      "id": "4e46d559-e19b-4f80-8037-db18be23d420",
      "metadata": {
        "id": "4e46d559-e19b-4f80-8037-db18be23d420"
      },
      "outputs": [],
      "source": [
        "X = df.loc[:, df.columns != 'positive'].to_numpy()"
      ]
    },
    {
      "cell_type": "code",
      "execution_count": null,
      "id": "48d1b5be-6852-4a94-b874-6e22cec552c5",
      "metadata": {
        "id": "48d1b5be-6852-4a94-b874-6e22cec552c5",
        "outputId": "719f33c0-1268-46fb-f04b-080a0a4a4a8b"
      },
      "outputs": [
        {
          "data": {
            "text/plain": [
              "array([['x', 'x', 'x', ..., 'o', 'x', 'o'],\n",
              "       ['x', 'x', 'x', ..., 'o', 'o', 'x'],\n",
              "       ['x', 'x', 'x', ..., 'o', 'b', 'b'],\n",
              "       ...,\n",
              "       ['o', 'x', 'o', ..., 'x', 'o', 'x'],\n",
              "       ['o', 'x', 'o', ..., 'x', 'o', 'x'],\n",
              "       ['o', 'o', 'x', ..., 'o', 'x', 'x']], dtype=object)"
            ]
          },
          "execution_count": 7,
          "metadata": {},
          "output_type": "execute_result"
        }
      ],
      "source": [
        "X"
      ]
    },
    {
      "cell_type": "markdown",
      "id": "61160806-3bda-4ee0-9385-5a4a6c5dee0a",
      "metadata": {
        "id": "61160806-3bda-4ee0-9385-5a4a6c5dee0a"
      },
      "source": [
        "### Extract label column"
      ]
    },
    {
      "cell_type": "code",
      "execution_count": null,
      "id": "c936e6ff-2506-4681-98c5-88c11b0d4626",
      "metadata": {
        "id": "c936e6ff-2506-4681-98c5-88c11b0d4626"
      },
      "outputs": [],
      "source": [
        "Y = df['positive']"
      ]
    },
    {
      "cell_type": "code",
      "execution_count": null,
      "id": "1d341b59-d5a1-4279-a73c-45fc8a02ba89",
      "metadata": {
        "id": "1d341b59-d5a1-4279-a73c-45fc8a02ba89",
        "outputId": "f16b4762-fb09-4eb3-ced7-e88c46a5ba4c"
      },
      "outputs": [
        {
          "data": {
            "text/plain": [
              "0      positive\n",
              "1      positive\n",
              "2      positive\n",
              "3      positive\n",
              "4      positive\n",
              "         ...   \n",
              "952    negative\n",
              "953    negative\n",
              "954    negative\n",
              "955    negative\n",
              "956    negative\n",
              "Name: positive, Length: 957, dtype: object"
            ]
          },
          "execution_count": 9,
          "metadata": {},
          "output_type": "execute_result"
        }
      ],
      "source": [
        "Y"
      ]
    },
    {
      "cell_type": "markdown",
      "id": "4e651a56-88df-414d-9d37-e97eb37e1ae1",
      "metadata": {
        "id": "4e651a56-88df-414d-9d37-e97eb37e1ae1"
      },
      "source": [
        "## Convert CATEGORICAL features to 1-HOT-ENCODING"
      ]
    },
    {
      "cell_type": "code",
      "execution_count": null,
      "id": "37f1c7ab-cc60-42be-8e44-d78c438ad231",
      "metadata": {
        "id": "37f1c7ab-cc60-42be-8e44-d78c438ad231"
      },
      "outputs": [],
      "source": [
        "from sklearn.preprocessing import OneHotEncoder"
      ]
    },
    {
      "cell_type": "code",
      "execution_count": null,
      "id": "366987b7-66f4-4ca6-8b9d-06b4fc9733f1",
      "metadata": {
        "id": "366987b7-66f4-4ca6-8b9d-06b4fc9733f1"
      },
      "outputs": [],
      "source": [
        "enc = OneHotEncoder(handle_unknown='ignore')"
      ]
    },
    {
      "cell_type": "code",
      "execution_count": null,
      "id": "56467c84-2f15-484a-ad3f-952683218e56",
      "metadata": {
        "id": "56467c84-2f15-484a-ad3f-952683218e56",
        "outputId": "f3eb0aa4-e45c-4d1c-ec94-57e7ee070bc3"
      },
      "outputs": [
        {
          "data": {
            "text/html": [
              "<style>#sk-container-id-3 {color: black;background-color: white;}#sk-container-id-3 pre{padding: 0;}#sk-container-id-3 div.sk-toggleable {background-color: white;}#sk-container-id-3 label.sk-toggleable__label {cursor: pointer;display: block;width: 100%;margin-bottom: 0;padding: 0.3em;box-sizing: border-box;text-align: center;}#sk-container-id-3 label.sk-toggleable__label-arrow:before {content: \"▸\";float: left;margin-right: 0.25em;color: #696969;}#sk-container-id-3 label.sk-toggleable__label-arrow:hover:before {color: black;}#sk-container-id-3 div.sk-estimator:hover label.sk-toggleable__label-arrow:before {color: black;}#sk-container-id-3 div.sk-toggleable__content {max-height: 0;max-width: 0;overflow: hidden;text-align: left;background-color: #f0f8ff;}#sk-container-id-3 div.sk-toggleable__content pre {margin: 0.2em;color: black;border-radius: 0.25em;background-color: #f0f8ff;}#sk-container-id-3 input.sk-toggleable__control:checked~div.sk-toggleable__content {max-height: 200px;max-width: 100%;overflow: auto;}#sk-container-id-3 input.sk-toggleable__control:checked~label.sk-toggleable__label-arrow:before {content: \"▾\";}#sk-container-id-3 div.sk-estimator input.sk-toggleable__control:checked~label.sk-toggleable__label {background-color: #d4ebff;}#sk-container-id-3 div.sk-label input.sk-toggleable__control:checked~label.sk-toggleable__label {background-color: #d4ebff;}#sk-container-id-3 input.sk-hidden--visually {border: 0;clip: rect(1px 1px 1px 1px);clip: rect(1px, 1px, 1px, 1px);height: 1px;margin: -1px;overflow: hidden;padding: 0;position: absolute;width: 1px;}#sk-container-id-3 div.sk-estimator {font-family: monospace;background-color: #f0f8ff;border: 1px dotted black;border-radius: 0.25em;box-sizing: border-box;margin-bottom: 0.5em;}#sk-container-id-3 div.sk-estimator:hover {background-color: #d4ebff;}#sk-container-id-3 div.sk-parallel-item::after {content: \"\";width: 100%;border-bottom: 1px solid gray;flex-grow: 1;}#sk-container-id-3 div.sk-label:hover label.sk-toggleable__label {background-color: #d4ebff;}#sk-container-id-3 div.sk-serial::before {content: \"\";position: absolute;border-left: 1px solid gray;box-sizing: border-box;top: 0;bottom: 0;left: 50%;z-index: 0;}#sk-container-id-3 div.sk-serial {display: flex;flex-direction: column;align-items: center;background-color: white;padding-right: 0.2em;padding-left: 0.2em;position: relative;}#sk-container-id-3 div.sk-item {position: relative;z-index: 1;}#sk-container-id-3 div.sk-parallel {display: flex;align-items: stretch;justify-content: center;background-color: white;position: relative;}#sk-container-id-3 div.sk-item::before, #sk-container-id-3 div.sk-parallel-item::before {content: \"\";position: absolute;border-left: 1px solid gray;box-sizing: border-box;top: 0;bottom: 0;left: 50%;z-index: -1;}#sk-container-id-3 div.sk-parallel-item {display: flex;flex-direction: column;z-index: 1;position: relative;background-color: white;}#sk-container-id-3 div.sk-parallel-item:first-child::after {align-self: flex-end;width: 50%;}#sk-container-id-3 div.sk-parallel-item:last-child::after {align-self: flex-start;width: 50%;}#sk-container-id-3 div.sk-parallel-item:only-child::after {width: 0;}#sk-container-id-3 div.sk-dashed-wrapped {border: 1px dashed gray;margin: 0 0.4em 0.5em 0.4em;box-sizing: border-box;padding-bottom: 0.4em;background-color: white;}#sk-container-id-3 div.sk-label label {font-family: monospace;font-weight: bold;display: inline-block;line-height: 1.2em;}#sk-container-id-3 div.sk-label-container {text-align: center;}#sk-container-id-3 div.sk-container {/* jupyter's `normalize.less` sets `[hidden] { display: none; }` but bootstrap.min.css set `[hidden] { display: none !important; }` so we also need the `!important` here to be able to override the default hidden behavior on the sphinx rendered scikit-learn.org. See: https://github.com/scikit-learn/scikit-learn/issues/21755 */display: inline-block !important;position: relative;}#sk-container-id-3 div.sk-text-repr-fallback {display: none;}</style><div id=\"sk-container-id-3\" class=\"sk-top-container\"><div class=\"sk-text-repr-fallback\"><pre>OneHotEncoder(handle_unknown=&#x27;ignore&#x27;)</pre><b>In a Jupyter environment, please rerun this cell to show the HTML representation or trust the notebook. <br />On GitHub, the HTML representation is unable to render, please try loading this page with nbviewer.org.</b></div><div class=\"sk-container\" hidden><div class=\"sk-item\"><div class=\"sk-estimator sk-toggleable\"><input class=\"sk-toggleable__control sk-hidden--visually\" id=\"sk-estimator-id-3\" type=\"checkbox\" checked><label for=\"sk-estimator-id-3\" class=\"sk-toggleable__label sk-toggleable__label-arrow\">OneHotEncoder</label><div class=\"sk-toggleable__content\"><pre>OneHotEncoder(handle_unknown=&#x27;ignore&#x27;)</pre></div></div></div></div></div>"
            ],
            "text/plain": [
              "OneHotEncoder(handle_unknown='ignore')"
            ]
          },
          "execution_count": 28,
          "metadata": {},
          "output_type": "execute_result"
        }
      ],
      "source": [
        "enc.fit(X)"
      ]
    },
    {
      "cell_type": "code",
      "execution_count": null,
      "id": "77ae55f4-ac46-4e3f-8d67-56934dc8dc81",
      "metadata": {
        "id": "77ae55f4-ac46-4e3f-8d67-56934dc8dc81",
        "outputId": "cb7c01e9-bea5-4597-a7ba-cf6ecf5a9ce7"
      },
      "outputs": [
        {
          "data": {
            "text/plain": [
              "[array(['b', 'o', 'x'], dtype=object),\n",
              " array(['b', 'o', 'x'], dtype=object),\n",
              " array(['b', 'o', 'x'], dtype=object),\n",
              " array(['b', 'o', 'x'], dtype=object),\n",
              " array(['b', 'o', 'x'], dtype=object),\n",
              " array(['b', 'o', 'x'], dtype=object),\n",
              " array(['b', 'o', 'x'], dtype=object),\n",
              " array(['b', 'o', 'x'], dtype=object),\n",
              " array(['b', 'o', 'x'], dtype=object)]"
            ]
          },
          "execution_count": 29,
          "metadata": {},
          "output_type": "execute_result"
        }
      ],
      "source": [
        "enc.categories_"
      ]
    },
    {
      "cell_type": "code",
      "execution_count": null,
      "id": "a8b96522-9d49-4883-9964-523a7880ab73",
      "metadata": {
        "id": "a8b96522-9d49-4883-9964-523a7880ab73"
      },
      "outputs": [],
      "source": [
        "X_1hot = enc.transform( X ).toarray()"
      ]
    },
    {
      "cell_type": "code",
      "execution_count": null,
      "id": "4f11fb47-f522-4efd-8098-1d2292459157",
      "metadata": {
        "id": "4f11fb47-f522-4efd-8098-1d2292459157",
        "outputId": "20e6097a-f088-49f7-f3cf-cf18939a78c8"
      },
      "outputs": [
        {
          "data": {
            "text/plain": [
              "array([[0., 0., 1., ..., 0., 1., 0.],\n",
              "       [0., 0., 1., ..., 0., 0., 1.],\n",
              "       [0., 0., 1., ..., 1., 0., 0.],\n",
              "       ...,\n",
              "       [0., 1., 0., ..., 0., 0., 1.],\n",
              "       [0., 1., 0., ..., 0., 0., 1.],\n",
              "       [0., 1., 0., ..., 0., 0., 1.]])"
            ]
          },
          "execution_count": 31,
          "metadata": {},
          "output_type": "execute_result"
        }
      ],
      "source": [
        "X_1hot"
      ]
    },
    {
      "cell_type": "code",
      "execution_count": null,
      "id": "0d899532-cc13-430f-b9d8-e7ee6cd27d8f",
      "metadata": {
        "id": "0d899532-cc13-430f-b9d8-e7ee6cd27d8f",
        "outputId": "a02a34d4-f573-4ac6-acce-1006fca4bff1"
      },
      "outputs": [
        {
          "data": {
            "text/plain": [
              "array(['x', 'x', 'x', 'x', 'o', 'o', 'b', 'o', 'b'], dtype=object)"
            ]
          },
          "execution_count": 21,
          "metadata": {},
          "output_type": "execute_result"
        }
      ],
      "source": [
        "X[3]"
      ]
    },
    {
      "cell_type": "code",
      "execution_count": null,
      "id": "42cb9180-fab8-43ce-84dd-624653b8ecce",
      "metadata": {
        "id": "42cb9180-fab8-43ce-84dd-624653b8ecce",
        "outputId": "1cd39f83-7f50-404f-ed9f-03d4949acd2f"
      },
      "outputs": [
        {
          "data": {
            "text/plain": [
              "array([0., 0., 1., 0., 0., 1., 0., 0., 1., 0., 0., 1., 0., 1., 0., 0., 1.,\n",
              "       0., 1., 0., 0., 0., 1., 0., 1., 0., 0.])"
            ]
          },
          "execution_count": 22,
          "metadata": {},
          "output_type": "execute_result"
        }
      ],
      "source": [
        "X_1hot[3]"
      ]
    },
    {
      "cell_type": "markdown",
      "id": "a965340e-7b48-457c-b8df-f00f45a6f41d",
      "metadata": {
        "id": "a965340e-7b48-457c-b8df-f00f45a6f41d"
      },
      "source": [
        "## Split data set into train and test sets"
      ]
    },
    {
      "cell_type": "code",
      "execution_count": null,
      "id": "1d624a8a-5cc9-4287-9979-c9c73e3d0bd4",
      "metadata": {
        "id": "1d624a8a-5cc9-4287-9979-c9c73e3d0bd4"
      },
      "outputs": [],
      "source": [
        "from sklearn.model_selection import train_test_split"
      ]
    },
    {
      "cell_type": "code",
      "execution_count": null,
      "id": "648e787f-24ae-48cb-a5aa-c6040f2fc334",
      "metadata": {
        "id": "648e787f-24ae-48cb-a5aa-c6040f2fc334"
      },
      "outputs": [],
      "source": [
        "X_train, X_test, Y_train, Y_test = train_test_split(X_1hot, Y, test_size=0.33, random_state=42)"
      ]
    },
    {
      "cell_type": "markdown",
      "id": "0ba9da11-26ef-405a-b11a-18695d23f4c7",
      "metadata": {
        "id": "0ba9da11-26ef-405a-b11a-18695d23f4c7"
      },
      "source": [
        "## Train classifiers "
      ]
    },
    {
      "cell_type": "code",
      "execution_count": null,
      "id": "a5270ca4-6043-4d53-ab40-446f556167df",
      "metadata": {
        "id": "a5270ca4-6043-4d53-ab40-446f556167df"
      },
      "outputs": [],
      "source": [
        "from sklearn.linear_model import LogisticRegression"
      ]
    },
    {
      "cell_type": "code",
      "execution_count": null,
      "id": "a29594f9-ec07-4608-b444-777ca1f6bb11",
      "metadata": {
        "id": "a29594f9-ec07-4608-b444-777ca1f6bb11"
      },
      "outputs": [],
      "source": [
        "clf = LogisticRegression(random_state=0)"
      ]
    },
    {
      "cell_type": "code",
      "execution_count": null,
      "id": "0e968190-6938-437c-ab94-775ae2351e37",
      "metadata": {
        "id": "0e968190-6938-437c-ab94-775ae2351e37",
        "outputId": "58ddb3cd-c9c7-4848-c65b-761a5368ac6f"
      },
      "outputs": [
        {
          "data": {
            "text/html": [
              "<style>#sk-container-id-5 {color: black;background-color: white;}#sk-container-id-5 pre{padding: 0;}#sk-container-id-5 div.sk-toggleable {background-color: white;}#sk-container-id-5 label.sk-toggleable__label {cursor: pointer;display: block;width: 100%;margin-bottom: 0;padding: 0.3em;box-sizing: border-box;text-align: center;}#sk-container-id-5 label.sk-toggleable__label-arrow:before {content: \"▸\";float: left;margin-right: 0.25em;color: #696969;}#sk-container-id-5 label.sk-toggleable__label-arrow:hover:before {color: black;}#sk-container-id-5 div.sk-estimator:hover label.sk-toggleable__label-arrow:before {color: black;}#sk-container-id-5 div.sk-toggleable__content {max-height: 0;max-width: 0;overflow: hidden;text-align: left;background-color: #f0f8ff;}#sk-container-id-5 div.sk-toggleable__content pre {margin: 0.2em;color: black;border-radius: 0.25em;background-color: #f0f8ff;}#sk-container-id-5 input.sk-toggleable__control:checked~div.sk-toggleable__content {max-height: 200px;max-width: 100%;overflow: auto;}#sk-container-id-5 input.sk-toggleable__control:checked~label.sk-toggleable__label-arrow:before {content: \"▾\";}#sk-container-id-5 div.sk-estimator input.sk-toggleable__control:checked~label.sk-toggleable__label {background-color: #d4ebff;}#sk-container-id-5 div.sk-label input.sk-toggleable__control:checked~label.sk-toggleable__label {background-color: #d4ebff;}#sk-container-id-5 input.sk-hidden--visually {border: 0;clip: rect(1px 1px 1px 1px);clip: rect(1px, 1px, 1px, 1px);height: 1px;margin: -1px;overflow: hidden;padding: 0;position: absolute;width: 1px;}#sk-container-id-5 div.sk-estimator {font-family: monospace;background-color: #f0f8ff;border: 1px dotted black;border-radius: 0.25em;box-sizing: border-box;margin-bottom: 0.5em;}#sk-container-id-5 div.sk-estimator:hover {background-color: #d4ebff;}#sk-container-id-5 div.sk-parallel-item::after {content: \"\";width: 100%;border-bottom: 1px solid gray;flex-grow: 1;}#sk-container-id-5 div.sk-label:hover label.sk-toggleable__label {background-color: #d4ebff;}#sk-container-id-5 div.sk-serial::before {content: \"\";position: absolute;border-left: 1px solid gray;box-sizing: border-box;top: 0;bottom: 0;left: 50%;z-index: 0;}#sk-container-id-5 div.sk-serial {display: flex;flex-direction: column;align-items: center;background-color: white;padding-right: 0.2em;padding-left: 0.2em;position: relative;}#sk-container-id-5 div.sk-item {position: relative;z-index: 1;}#sk-container-id-5 div.sk-parallel {display: flex;align-items: stretch;justify-content: center;background-color: white;position: relative;}#sk-container-id-5 div.sk-item::before, #sk-container-id-5 div.sk-parallel-item::before {content: \"\";position: absolute;border-left: 1px solid gray;box-sizing: border-box;top: 0;bottom: 0;left: 50%;z-index: -1;}#sk-container-id-5 div.sk-parallel-item {display: flex;flex-direction: column;z-index: 1;position: relative;background-color: white;}#sk-container-id-5 div.sk-parallel-item:first-child::after {align-self: flex-end;width: 50%;}#sk-container-id-5 div.sk-parallel-item:last-child::after {align-self: flex-start;width: 50%;}#sk-container-id-5 div.sk-parallel-item:only-child::after {width: 0;}#sk-container-id-5 div.sk-dashed-wrapped {border: 1px dashed gray;margin: 0 0.4em 0.5em 0.4em;box-sizing: border-box;padding-bottom: 0.4em;background-color: white;}#sk-container-id-5 div.sk-label label {font-family: monospace;font-weight: bold;display: inline-block;line-height: 1.2em;}#sk-container-id-5 div.sk-label-container {text-align: center;}#sk-container-id-5 div.sk-container {/* jupyter's `normalize.less` sets `[hidden] { display: none; }` but bootstrap.min.css set `[hidden] { display: none !important; }` so we also need the `!important` here to be able to override the default hidden behavior on the sphinx rendered scikit-learn.org. See: https://github.com/scikit-learn/scikit-learn/issues/21755 */display: inline-block !important;position: relative;}#sk-container-id-5 div.sk-text-repr-fallback {display: none;}</style><div id=\"sk-container-id-5\" class=\"sk-top-container\"><div class=\"sk-text-repr-fallback\"><pre>LogisticRegression(random_state=0)</pre><b>In a Jupyter environment, please rerun this cell to show the HTML representation or trust the notebook. <br />On GitHub, the HTML representation is unable to render, please try loading this page with nbviewer.org.</b></div><div class=\"sk-container\" hidden><div class=\"sk-item\"><div class=\"sk-estimator sk-toggleable\"><input class=\"sk-toggleable__control sk-hidden--visually\" id=\"sk-estimator-id-5\" type=\"checkbox\" checked><label for=\"sk-estimator-id-5\" class=\"sk-toggleable__label sk-toggleable__label-arrow\">LogisticRegression</label><div class=\"sk-toggleable__content\"><pre>LogisticRegression(random_state=0)</pre></div></div></div></div></div>"
            ],
            "text/plain": [
              "LogisticRegression(random_state=0)"
            ]
          },
          "execution_count": 64,
          "metadata": {},
          "output_type": "execute_result"
        }
      ],
      "source": [
        "clf.fit(X_train, Y_train)"
      ]
    },
    {
      "cell_type": "code",
      "execution_count": null,
      "id": "6a7ffbd4-fd71-48a0-926a-f0c546e5def9",
      "metadata": {
        "id": "6a7ffbd4-fd71-48a0-926a-f0c546e5def9"
      },
      "outputs": [],
      "source": [
        "y_pred = clf.predict(X_test)"
      ]
    },
    {
      "cell_type": "code",
      "execution_count": null,
      "id": "d50f9638-72c5-4df6-b816-20c931f8fdb8",
      "metadata": {
        "id": "d50f9638-72c5-4df6-b816-20c931f8fdb8",
        "outputId": "c33f60ee-2905-4a02-ab7a-3d89b2b75114"
      },
      "outputs": [
        {
          "data": {
            "text/plain": [
              "835    negative\n",
              "477    positive\n",
              "350    positive\n",
              "890    negative\n",
              "854    negative\n",
              "261    positive\n",
              "215    positive\n",
              "334    positive\n",
              "86     positive\n",
              "908    negative\n",
              "Name: positive, dtype: object"
            ]
          },
          "execution_count": 38,
          "metadata": {},
          "output_type": "execute_result"
        }
      ],
      "source": [
        "Y_test[:10]"
      ]
    },
    {
      "cell_type": "code",
      "execution_count": null,
      "id": "fc097ae0-79bc-4a52-8438-2042819a2f07",
      "metadata": {
        "id": "fc097ae0-79bc-4a52-8438-2042819a2f07",
        "outputId": "40ad0667-bb7d-4afe-e327-aeeedd402260"
      },
      "outputs": [
        {
          "data": {
            "text/plain": [
              "array(['negative', 'positive', 'positive', 'negative', 'negative',\n",
              "       'positive', 'positive', 'positive', 'positive', 'negative'],\n",
              "      dtype=object)"
            ]
          },
          "execution_count": 39,
          "metadata": {},
          "output_type": "execute_result"
        }
      ],
      "source": [
        "y_pred[:10]"
      ]
    },
    {
      "cell_type": "markdown",
      "id": "16fc65ae",
      "metadata": {
        "id": "16fc65ae"
      },
      "source": [
        "### Predict the probability of positive winning"
      ]
    },
    {
      "cell_type": "code",
      "execution_count": null,
      "id": "37744ece",
      "metadata": {
        "id": "37744ece",
        "outputId": "8cec62d4-1a53-4848-a4c5-f1b75fe52b5a"
      },
      "outputs": [
        {
          "name": "stdout",
          "output_type": "stream",
          "text": [
            "['negative']\n",
            "[[0.74145624 0.25854376]]\n"
          ]
        }
      ],
      "source": [
        "unseen_X = enc.transform([['x', 'o', 'b',  \n",
        "                           'x', 'o', 'x', \n",
        "                           'b', 'o', 'b']])\n",
        "\n",
        "print(clf.predict(unseen_X))\n",
        "print(clf.predict_proba(unseen_X))"
      ]
    },
    {
      "cell_type": "markdown",
      "id": "36c49813",
      "metadata": {
        "id": "36c49813"
      },
      "source": [
        "## Evaluation metrics"
      ]
    },
    {
      "cell_type": "markdown",
      "id": "b1da5766-b701-41a3-a008-bfeabdf808f4",
      "metadata": {
        "id": "b1da5766-b701-41a3-a008-bfeabdf808f4"
      },
      "source": [
        "### Compute accuracy"
      ]
    },
    {
      "cell_type": "code",
      "execution_count": null,
      "id": "baa0b34f-1602-486a-91ec-468da000baf2",
      "metadata": {
        "id": "baa0b34f-1602-486a-91ec-468da000baf2"
      },
      "outputs": [],
      "source": [
        "from sklearn.metrics import accuracy_score"
      ]
    },
    {
      "cell_type": "code",
      "execution_count": null,
      "id": "8f985a43-cf1e-407f-b197-cb4580984c32",
      "metadata": {
        "id": "8f985a43-cf1e-407f-b197-cb4580984c32",
        "outputId": "93f849ab-3c1e-4115-e2f7-030cbd4fe6ec"
      },
      "outputs": [
        {
          "data": {
            "text/plain": [
              "0.9746835443037974"
            ]
          },
          "execution_count": 49,
          "metadata": {},
          "output_type": "execute_result"
        }
      ],
      "source": [
        "accuracy_score(Y_test, y_pred)"
      ]
    },
    {
      "cell_type": "markdown",
      "id": "982e4276",
      "metadata": {
        "id": "982e4276"
      },
      "source": [
        "### Evaluate model with cross validation"
      ]
    },
    {
      "cell_type": "code",
      "execution_count": null,
      "id": "a21fdb1c",
      "metadata": {
        "id": "a21fdb1c"
      },
      "outputs": [],
      "source": [
        "from sklearn.linear_model import LogisticRegression\n",
        "from sklearn.model_selection import cross_val_score\n",
        "\n",
        "clf = LogisticRegression()\n",
        "scores = cross_val_score(clf, X_1hot, Y, cv=10)"
      ]
    },
    {
      "cell_type": "code",
      "execution_count": null,
      "id": "50d89b88",
      "metadata": {
        "id": "50d89b88",
        "outputId": "5bde8f82-f668-46a2-a6ae-f84e372c30df"
      },
      "outputs": [
        {
          "data": {
            "text/plain": [
              "array([0.97916667, 1.        , 0.98958333, 1.        , 1.        ,\n",
              "       0.96875   , 0.98958333, 1.        , 1.        , 0.83157895])"
            ]
          },
          "execution_count": 58,
          "metadata": {},
          "output_type": "execute_result"
        }
      ],
      "source": [
        "scores"
      ]
    },
    {
      "cell_type": "code",
      "execution_count": null,
      "id": "875749d0",
      "metadata": {
        "id": "875749d0",
        "outputId": "532aa9da-e2cf-4d12-ef24-1780c5b7b62f"
      },
      "outputs": [
        {
          "data": {
            "text/plain": [
              "0.9758662280701754"
            ]
          },
          "execution_count": 59,
          "metadata": {},
          "output_type": "execute_result"
        }
      ],
      "source": [
        "np.mean(scores)"
      ]
    },
    {
      "cell_type": "markdown",
      "id": "0d9e0ff8",
      "metadata": {
        "id": "0d9e0ff8"
      },
      "source": [
        "### Compute ROC AUC score"
      ]
    },
    {
      "cell_type": "code",
      "execution_count": null,
      "id": "558cc467",
      "metadata": {
        "id": "558cc467"
      },
      "outputs": [],
      "source": [
        "from sklearn.metrics import roc_auc_score"
      ]
    },
    {
      "cell_type": "code",
      "execution_count": null,
      "id": "f5682ab4",
      "metadata": {
        "id": "f5682ab4",
        "outputId": "c62b1d5b-8f99-4b23-b8f6-a585f0aeb196"
      },
      "outputs": [
        {
          "data": {
            "text/plain": [
              "array([[0.4979642 , 0.5020358 ],\n",
              "       [0.33419455, 0.66580545],\n",
              "       [0.23565321, 0.76434679],\n",
              "       ...,\n",
              "       [0.53427703, 0.46572297],\n",
              "       [0.22562193, 0.77437807],\n",
              "       [0.18214273, 0.81785727]])"
            ]
          },
          "execution_count": 65,
          "metadata": {},
          "output_type": "execute_result"
        }
      ],
      "source": [
        "clf.predict_proba(X_1hot)"
      ]
    },
    {
      "cell_type": "code",
      "execution_count": null,
      "id": "af209afb",
      "metadata": {
        "id": "af209afb",
        "outputId": "ca77cfd8-6fc3-497f-a337-0aa0fc0d6546"
      },
      "outputs": [
        {
          "data": {
            "text/plain": [
              "array([0.5020358 , 0.66580545, 0.76434679, 0.78117086, 0.721313  ,\n",
              "       0.73399352, 0.66673634, 0.68768166, 0.87338519, 0.8333709 ,\n",
              "       0.8462583 , 0.87561218, 0.79877671, 0.88693384, 0.92738406,\n",
              "       0.93357983, 0.91064264, 0.9157151 , 0.88735299, 0.89658342,\n",
              "       0.64040006, 0.50106205, 0.6649382 , 0.76364449, 0.7805043 ,\n",
              "       0.72052934, 0.82996493, 0.77968986, 0.73351419, 0.79772538,\n",
              "       0.68715445, 0.81275023, 0.87603064, 0.87295384, 0.83282932,\n",
              "       0.84575085, 0.92425576, 0.89844889, 0.87311362, 0.90791058,\n",
              "       0.84593881, 0.91561669, 0.94642526, 0.88271824, 0.80931634,\n",
              "       0.8934718 , 0.93176297, 0.93761026, 0.91593959, 0.92946842,\n",
              "       0.90525551, 0.91316254, 0.76925942, 0.70736391, 0.7268021 ,\n",
              "       0.85550271, 0.81105957, 0.76951519, 0.82709652, 0.72708823,\n",
              "       0.84037625, 0.8955207 , 0.78503092, 0.67313004, 0.80273982,\n",
              "       0.86885734, 0.87939734, 0.84093705, 0.90127539, 0.83734759,\n",
              "       0.91049996, 0.94306049, 0.94799371, 0.92965909, 0.93373062,\n",
              "       0.91084053, 0.91832352, 0.80049085, 0.47668411, 0.64319101,\n",
              "       0.7458552 , 0.7140113 , 0.64415124, 0.86190393, 0.79380158,\n",
              "       0.66914908, 0.79986806, 0.87650743, 0.80009872, 0.87762614,\n",
              "       0.9113113 , 0.84717538, 0.88817453, 0.81561859, 0.89734543,\n",
              "       0.87053152, 0.90596032, 0.91381414, 0.80572486, 0.89125238,\n",
              "       0.78880551, 0.73031504, 0.69731419, 0.85205222, 0.89239201,\n",
              "       0.92237217, 0.86872522, 0.92896281, 0.8364723 , 0.909976  ,\n",
              "       0.86119618, 0.92458869, 0.89271152, 0.90264985, 0.67825535,\n",
              "       0.87149952, 0.80707002, 0.93516331, 0.91272183, 0.89895345,\n",
              "       0.89233789, 0.90230704, 0.8924763 , 0.94253622, 0.96390386,\n",
              "       0.90243403, 0.95958917, 0.95783661, 0.94276256, 0.9483329 ,\n",
              "       0.95283217, 0.70059834, 0.85729339, 0.9206867 , 0.92740917,\n",
              "       0.96497955, 0.95233211, 0.95701361, 0.96078821, 0.94443194,\n",
              "       0.94984846, 0.8492225 , 0.92294732, 0.8091374 , 0.70507065,\n",
              "       0.82530236, 0.88494134, 0.89434586, 0.85989315, 0.89349867,\n",
              "       0.93178093, 0.8255101 , 0.9239295 , 0.92075814, 0.8938964 ,\n",
              "       0.9037368 , 0.91175823, 0.51785199, 0.77555626, 0.680052  ,\n",
              "       0.74644026, 0.80835061, 0.88022075, 0.84197586, 0.88037265,\n",
              "       0.91337642, 0.8194705 , 0.89969995, 0.93591302, 0.89312745,\n",
              "       0.82494833, 0.92365529, 0.89326497, 0.94320585, 0.91156063,\n",
              "       0.67920391, 0.89947832, 0.91898287, 0.92583812, 0.95270502,\n",
              "       0.92593703, 0.94486307, 0.90622315, 0.96125389, 0.81279028,\n",
              "       0.91563702, 0.90730737, 0.87649762, 0.88650378, 0.9456016 ,\n",
              "       0.92648904, 0.93353146, 0.93923708, 0.91468949, 0.92276808,\n",
              "       0.76125088, 0.81495139, 0.86319949, 0.73092296, 0.89732297,\n",
              "       0.87148091, 0.87164228, 0.93064818, 0.95623106, 0.94894243,\n",
              "       0.93091791, 0.93328936, 0.93901441, 0.96130737, 0.93909691,\n",
              "       0.95482414, 0.92259304, 0.96835297, 0.84263789, 0.93048966,\n",
              "       0.93521606, 0.96245742, 0.93530334, 0.97376312, 0.96631635,\n",
              "       0.96930029, 0.86657828, 0.84614631, 0.79949986, 0.77232576,\n",
              "       0.89451739, 0.95585866, 0.94012166, 0.94593427, 0.95063155,\n",
              "       0.93034582, 0.93704386, 0.81571094, 0.82968506, 0.90396877,\n",
              "       0.94186332, 0.9475163 , 0.8203799 , 0.8618197 , 0.81890821,\n",
              "       0.83268962, 0.91719115, 0.89948726, 0.90782668, 0.87231468,\n",
              "       0.88389667, 0.73698625, 0.67014571, 0.73726557, 0.80081829,\n",
              "       0.63381183, 0.77377232, 0.84775775, 0.81205382, 0.89529285,\n",
              "       0.93297856, 0.92213311, 0.89568466, 0.89913456, 0.90750023,\n",
              "       0.94058412, 0.90762116, 0.93087823, 0.88364464, 0.95121173,\n",
              "       0.77334254, 0.89506262, 0.90194405, 0.94231316, 0.90207147,\n",
              "       0.95942945, 0.94813109, 0.95264706, 0.80539045, 0.91087577,\n",
              "       0.91928364, 0.72110656, 0.72139637, 0.83651587, 0.89282387,\n",
              "       0.8763418 , 0.83708761, 0.94657051, 0.92777238, 0.91616017,\n",
              "       0.91899415, 0.95271184, 0.91910139, 0.96685128, 0.9575283 ,\n",
              "       0.96125953, 0.96472155, 0.96784206, 0.95878586, 0.77361713,\n",
              "       0.65836052, 0.49067846, 0.77293425, 0.77318714, 0.87074104,\n",
              "       0.91643857, 0.87190435, 0.90319433, 0.87121151, 0.80763302,\n",
              "       0.63020787, 0.71158543, 0.8399241 , 0.9188096 , 0.89136527,\n",
              "       0.86452922, 0.83586154, 0.87469037, 0.79741724, 0.69817517,\n",
              "       0.71798036, 0.83106445, 0.63518412, 0.49541747, 0.65988916,\n",
              "       0.75954498, 0.77661167, 0.71596016, 0.66021261, 0.77686165,\n",
              "       0.72907748, 0.68228023, 0.46608166, 0.63461538, 0.77618572,\n",
              "       0.77462983, 0.82640304, 0.80891076, 0.46511251, 0.78609552,\n",
              "       0.76478628, 0.72180353, 0.85238064, 0.83698962, 0.78077639,\n",
              "       0.79874592, 0.87671715, 0.64068785, 0.81676748, 0.80079962,\n",
              "       0.74455521, 0.76235295, 0.80102946, 0.762614  , 0.71290631,\n",
              "       0.76190815, 0.87687239, 0.86362638, 0.81456361, 0.897656  ,\n",
              "       0.68742213, 0.84610105, 0.75001571, 0.8419741 , 0.85585343,\n",
              "       0.91407965, 0.89157916, 0.86776008, 0.72733529, 0.80093965,\n",
              "       0.69409299, 0.81764243, 0.87951463, 0.88930722, 0.85348065,\n",
              "       0.80116937, 0.88842468, 0.92838461, 0.91686202, 0.888839  ,\n",
              "       0.53182669, 0.74465772, 0.66858083, 0.84929013, 0.86115145,\n",
              "       0.80054817, 0.88803799, 0.92812521, 0.91988922, 0.88818123,\n",
              "       0.9166748 , 0.94034192, 0.6677172 , 0.90883094, 0.86085782,\n",
              "       0.89465563, 0.9301899 , 0.90619966, 0.91500751, 0.92217065,\n",
              "       0.93028344, 0.95029485, 0.891664  , 0.94207757, 0.96360917,\n",
              "       0.82867214, 0.75011676, 0.80471156, 0.91139696, 0.85295394,\n",
              "       0.93707385, 0.9115133 , 0.89368261, 0.85904772, 0.82578857,\n",
              "       0.87165606, 0.79090557, 0.88200168, 0.92406535, 0.72218343,\n",
              "       0.86663935, 0.9109947 , 0.86618853, 0.92545558, 0.7584999 ,\n",
              "       0.92994199, 0.85548056, 0.81103211, 0.82528502, 0.91313619,\n",
              "       0.88401619, 0.86638235, 0.68241336, 0.70281257, 0.82045774,\n",
              "       0.91282675, 0.88361623, 0.9030209 , 0.91294138, 0.93759673,\n",
              "       0.86609806, 0.92744048, 0.95414833, 0.79171334, 0.70229984,\n",
              "       0.76405567, 0.88991283, 0.92127798, 0.89005397, 0.88680355,\n",
              "       0.89722614, 0.88694817, 0.9394071 , 0.96189124, 0.95550131,\n",
              "       0.93964496, 0.79683886, 0.68864674, 0.8502599 , 0.79707212,\n",
              "       0.91647321, 0.92352315, 0.8426682 , 0.79522244, 0.75126373,\n",
              "       0.81229252, 0.70675737, 0.8264707 , 0.88576604, 0.62354268,\n",
              "       0.80547324, 0.86705139, 0.80486221, 0.88777229, 0.66680445,\n",
              "       0.89426755, 0.83171216, 0.73593719, 0.84632829, 0.89966202,\n",
              "       0.90798842, 0.87737445, 0.71246914, 0.90703259, 0.71167055,\n",
              "       0.91252298, 0.83502108, 0.92675552, 0.93414977, 0.91139072,\n",
              "       0.8888849 , 0.86456383, 0.89743596, 0.83148683, 0.74356773,\n",
              "       0.76141221, 0.86046556, 0.91389153, 0.85683547, 0.74950316,\n",
              "       0.80337567, 0.74762939, 0.76528046, 0.80360327, 0.7162162 ,\n",
              "       0.80298781, 0.76483945, 0.87861379, 0.86552639, 0.81700234,\n",
              "       0.83263896, 0.89913727, 0.69089843, 0.84820232, 0.75304597,\n",
              "       0.85784391, 0.91534563, 0.89313791, 0.86961119, 0.7305417 ,\n",
              "       0.79060287, 0.78995732, 0.86977404, 0.8815552 , 0.93024566,\n",
              "       0.9115691 , 0.89160773, 0.92594424, 0.90890347, 0.88521768,\n",
              "       0.90423421, 0.87254647, 0.88282996, 0.9437193 , 0.92399857,\n",
              "       0.91183729, 0.77413668, 0.87936019, 0.94351206, 0.92372458,\n",
              "       0.93101212, 0.93691939, 0.94358884, 0.95994551, 0.91163985,\n",
              "       0.95324518, 0.97075431, 0.85841867, 0.79004674, 0.83780394,\n",
              "       0.92802798, 0.87909966, 0.94915413, 0.9281242 , 0.92590559,\n",
              "       0.93299986, 0.92600442, 0.9611344 , 0.97576422, 0.97163185,\n",
              "       0.96129049, 0.7791524 , 0.90057004, 0.86235962, 0.94595096,\n",
              "       0.95064686, 0.89521468, 0.86100126, 0.82811083, 0.87346059,\n",
              "       0.79357659, 0.88368016, 0.92519624, 0.72542756, 0.86850377,\n",
              "       0.91230177, 0.8680583 , 0.9265674 , 0.76146003, 0.9309919 ,\n",
              "       0.88742897, 0.81636198, 0.89780061, 0.93464962, 0.9402654 ,\n",
              "       0.91943773, 0.79808043, 0.93962257, 0.79745202, 0.94330859,\n",
              "       0.88978754, 0.95279143, 0.90790891, 0.73540595, 0.90758272,\n",
              "       0.9162727 , 0.90770356, 0.95106284, 0.96936296, 0.9641792 ,\n",
              "       0.95125733, 0.83098512, 0.73492825, 0.87681546, 0.93222227,\n",
              "       0.93803281, 0.97028098, 0.9594677 , 0.95269139, 0.86968082,\n",
              "       0.88016377, 0.93417761, 0.83397133, 0.73907874, 0.848427  ,\n",
              "       0.90111746, 0.90933525, 0.87910973, 0.71578205, 0.908392  ,\n",
              "       0.71498899, 0.91380974, 0.83724452, 0.92784947, 0.9206211 ,\n",
              "       0.89371826, 0.90248443, 0.8638464 , 0.9406913 , 0.88500057,\n",
              "       0.20597255, 0.22208919, 0.18078236, 0.08299942, 0.06158389,\n",
              "       0.0831092 , 0.11494248, 0.06745168, 0.05294856, 0.09949023,\n",
              "       0.15244971, 0.12247201, 0.12262702, 0.26406545, 0.31454064,\n",
              "       0.08281287, 0.11454683, 0.13818661, 0.18681777, 0.12478995,\n",
              "       0.09927062, 0.1982313 , 0.21050215, 0.32134295, 0.40670127,\n",
              "       0.06327628, 0.11776713, 0.17852678, 0.10711225, 0.11791698,\n",
              "       0.15622349, 0.20965804, 0.3730818 , 0.26972292, 0.24819503,\n",
              "       0.07708132, 0.26088876, 0.24746895, 0.12888657, 0.22623244,\n",
              "       0.32249651, 0.14153956, 0.22805388, 0.29739771, 0.40274773,\n",
              "       0.29897164, 0.33773582, 0.17298484, 0.1430365 , 0.24829562,\n",
              "       0.20338898, 0.31388518, 0.24387131, 0.27007939, 0.27036365,\n",
              "       0.34679296, 0.24783796, 0.31112887, 0.38125004, 0.21680733,\n",
              "       0.35597821, 0.35393262, 0.43141216, 0.40287739, 0.25185125,\n",
              "       0.09643274, 0.13263112, 0.14405014, 0.11525708, 0.35827998,\n",
              "       0.21821064, 0.13599302, 0.16290373, 0.25854376, 0.29855709,\n",
              "       0.25609203, 0.36641552, 0.33961203, 0.41380625, 0.32710408,\n",
              "       0.1095125 , 0.34199769, 0.32624733, 0.17888946, 0.30095409,\n",
              "       0.4120802 , 0.19535049, 0.30314143, 0.38396063, 0.49823017,\n",
              "       0.38574117, 0.19873841, 0.38903808, 0.05904385, 0.11031916,\n",
              "       0.16796778, 0.11046072, 0.14674797, 0.1977009 , 0.25544737,\n",
              "       0.30495787, 0.11007858, 0.51363872, 0.39593254, 0.17204772,\n",
              "       0.22942311, 0.20232744, 0.36265912, 0.38514478, 0.28374955,\n",
              "       0.31278195, 0.39471554, 0.28811768, 0.4307939 , 0.17317458,\n",
              "       0.05863326, 0.06415257, 0.09959467, 0.06423917, 0.08600519,\n",
              "       0.05038946, 0.11989453, 0.11696772, 0.25275192, 0.1969436 ,\n",
              "       0.32674697, 0.29222215, 0.40197809, 0.09924592, 0.07893067,\n",
              "       0.06400542, 0.13208236, 0.17901151, 0.11919563, 0.08581252,\n",
              "       0.09469655, 0.11671454, 0.29830127, 0.20728898, 0.26587763,\n",
              "       0.34163257, 0.20195201, 0.10208565, 0.06024978, 0.14133152,\n",
              "       0.10221786, 0.18429674, 0.12297937, 0.18218022, 0.05334959,\n",
              "       0.04199117, 0.05909002, 0.03379464, 0.04581251, 0.05078546,\n",
              "       0.10716278, 0.19825088, 0.11756724, 0.05482891, 0.06071831,\n",
              "       0.06692265, 0.03887312, 0.0940666 , 0.06701272, 0.12475068,\n",
              "       0.08127099, 0.23936766, 0.33877383, 0.38476054, 0.0667696 ,\n",
              "       0.0738414 , 0.2163317 , 0.28341983, 0.25203275, 0.146911  ,\n",
              "       0.0965598 , 0.1279423 , 0.15227225, 0.11522891, 0.07478432,\n",
              "       0.099872  , 0.1798275 , 0.28511702, 0.32742682, 0.11820983,\n",
              "       0.26593275, 0.34169609, 0.24365295, 0.18264088, 0.30631036,\n",
              "       0.41823097, 0.19936329, 0.30851945, 0.38997009, 0.08395571,\n",
              "       0.11607219, 0.07535682, 0.12382168, 0.21830078, 0.31255313,\n",
              "       0.13605511, 0.22007652, 0.28789934, 0.27919677, 0.35690169,\n",
              "       0.25619354, 0.26517308, 0.34082047, 0.24293586, 0.21258692,\n",
              "       0.34790266, 0.4648369 , 0.23127535, 0.35026026, 0.43578577,\n",
              "       0.42528267, 0.5146178 , 0.39687034, 0.31879942, 0.40138862,\n",
              "       0.29386355, 0.07797522, 0.14318923, 0.27063963, 0.09552205,\n",
              "       0.05620764, 0.13261728, 0.09564667, 0.17346853, 0.11524482,\n",
              "       0.18995071, 0.43000925, 0.31696428, 0.39125195, 0.47940152,\n",
              "       0.09531028, 0.28900465, 0.33162373, 0.20228286, 0.13597889,\n",
              "       0.17765356, 0.17559692, 0.05113067, 0.05664663, 0.19122263,\n",
              "       0.137908  , 0.09031575, 0.1199383 , 0.32880691, 0.41241907,\n",
              "       0.37420634, 0.27440563, 0.14138186, 0.24153697, 0.07455831,\n",
              "       0.25400523, 0.24082412, 0.12489736, 0.21999114, 0.31467952,\n",
              "       0.13722042, 0.22177673, 0.28992875, 0.3941171 , 0.29147956,\n",
              "       0.22368761, 0.29435689, 0.03948399, 0.07512922, 0.11680313,\n",
              "       0.06803448, 0.07522944, 0.10126043, 0.13899223, 0.26586272,\n",
              "       0.18351286, 0.07495891, 0.40892991, 0.11981925, 0.16321064,\n",
              "       0.14248889, 0.27154449, 0.29095987, 0.20605073, 0.22968254,\n",
              "       0.29932957, 0.20957272, 0.33146377, 0.1441714 , 0.25170103,\n",
              "       0.25002203, 0.31587599, 0.29107108, 0.35809666, 0.40509938,\n",
              "       0.25359403, 0.14519173, 0.08741017, 0.26031675, 0.23835467,\n",
              "       0.30049326, 0.34168475, 0.37665348, 0.27648847, 0.3050944 ,\n",
              "       0.38614576, 0.28078864, 0.42198691, 0.39123375, 0.28513324,\n",
              "       0.11225801, 0.15338836, 0.13371441, 0.25720649, 0.39814177,\n",
              "       0.15718107, 0.78197137, 0.47607208, 0.64229662, 0.82431925,\n",
              "       0.54276311, 0.70141473, 0.82375447, 0.67740476, 0.8087582 ,\n",
              "       0.79201718, 0.63111514, 0.49103871, 0.77505788, 0.46572297,\n",
              "       0.77437807, 0.81785727])"
            ]
          },
          "execution_count": 66,
          "metadata": {},
          "output_type": "execute_result"
        }
      ],
      "source": [
        "clf.predict_proba(X_1hot)[:, 1]"
      ]
    },
    {
      "cell_type": "code",
      "execution_count": null,
      "id": "463a0ce2",
      "metadata": {
        "id": "463a0ce2"
      },
      "outputs": [],
      "source": [
        "y_prob = clf.predict_proba(X_1hot)[:, 1]"
      ]
    },
    {
      "cell_type": "code",
      "execution_count": null,
      "id": "cfd52c1e",
      "metadata": {
        "id": "cfd52c1e",
        "outputId": "bd17c4c9-5bfb-47a5-bbab-7d093999558d"
      },
      "outputs": [
        {
          "data": {
            "text/plain": [
              "0.993489156626506"
            ]
          },
          "execution_count": 68,
          "metadata": {},
          "output_type": "execute_result"
        }
      ],
      "source": [
        "roc_auc_score(Y, y_prob)"
      ]
    },
    {
      "cell_type": "markdown",
      "id": "7e7eb32e-2328-4aa6-9d7f-5f4122bf0035",
      "metadata": {
        "id": "7e7eb32e-2328-4aa6-9d7f-5f4122bf0035"
      },
      "source": [
        "### Show confusion matrix"
      ]
    },
    {
      "cell_type": "code",
      "execution_count": null,
      "id": "82b37b0d-31a4-4280-b750-13bc0e5f37c8",
      "metadata": {
        "id": "82b37b0d-31a4-4280-b750-13bc0e5f37c8"
      },
      "outputs": [],
      "source": [
        "import matplotlib.pyplot as plt\n",
        "\n",
        "from sklearn.metrics import confusion_matrix, ConfusionMatrixDisplay"
      ]
    },
    {
      "cell_type": "code",
      "execution_count": null,
      "id": "4113e169-91df-424a-8a6b-4a5c4980512e",
      "metadata": {
        "id": "4113e169-91df-424a-8a6b-4a5c4980512e"
      },
      "outputs": [],
      "source": [
        "cm = confusion_matrix(Y_test, y_pred, labels=clf.classes_)"
      ]
    },
    {
      "cell_type": "code",
      "execution_count": null,
      "id": "9d98ec8a-391d-4e87-b850-482ebb3ce01f",
      "metadata": {
        "id": "9d98ec8a-391d-4e87-b850-482ebb3ce01f",
        "outputId": "15ddca9d-83d7-42ca-8300-142b4e52d403"
      },
      "outputs": [
        {
          "data": {
            "text/plain": [
              "array([[ 99,   3],\n",
              "       [  5, 209]])"
            ]
          },
          "execution_count": 71,
          "metadata": {},
          "output_type": "execute_result"
        }
      ],
      "source": [
        "cm "
      ]
    },
    {
      "cell_type": "code",
      "execution_count": null,
      "id": "4ed1f53c-fec1-4a4e-a04c-74f287a49922",
      "metadata": {
        "id": "4ed1f53c-fec1-4a4e-a04c-74f287a49922"
      },
      "outputs": [],
      "source": [
        "disp = ConfusionMatrixDisplay(confusion_matrix=cm, display_labels=clf.classes_)"
      ]
    },
    {
      "cell_type": "code",
      "execution_count": null,
      "id": "535d8b13-34d2-496f-9bd0-e8812555135a",
      "metadata": {
        "id": "535d8b13-34d2-496f-9bd0-e8812555135a",
        "outputId": "10fd43de-9096-4bac-9ce9-fc8fe9a5ca91"
      },
      "outputs": [
        {
          "data": {
            "text/plain": [
              "<sklearn.metrics._plot.confusion_matrix.ConfusionMatrixDisplay at 0x7fd332272430>"
            ]
          },
          "execution_count": 73,
          "metadata": {},
          "output_type": "execute_result"
        },
        {
          "data": {
            "image/png": "[encoded data removed]",
            "text/plain": [
              "<Figure size 640x480 with 2 Axes>"
            ]
          },
          "metadata": {},
          "output_type": "display_data"
        }
      ],
      "source": [
        "disp.plot()"
      ]
    },
    {
      "cell_type": "markdown",
      "id": "68ea9f6d-ae25-4dfd-adb7-ae115f226af1",
      "metadata": {
        "id": "68ea9f6d-ae25-4dfd-adb7-ae115f226af1"
      },
      "source": [
        "### Wrap last steps into a function"
      ]
    },
    {
      "cell_type": "code",
      "execution_count": null,
      "id": "852e8ebf-2d62-414a-a599-4fb90742036b",
      "metadata": {
        "id": "852e8ebf-2d62-414a-a599-4fb90742036b"
      },
      "outputs": [],
      "source": [
        "def train_and_evaluate_classifier(clf, X_train, Y_train, X_test, Y_test):\n",
        "    clf.fit(X_train, Y_train)\n",
        "    y_pred = clf.predict(X_test)\n",
        "    \n",
        "    print(f'Accuracy: {accuracy_score(Y_test, y_pred)}')\n",
        "    \n",
        "    y_probs = clf.predict_proba(X_test)[:, 1]\n",
        "    print(f'ROC AUC score: {roc_auc_score(Y_test, y_probs)}')\n",
        "    \n",
        "    cm = confusion_matrix(Y_test, y_pred, labels=clf.classes_)\n",
        "    disp = ConfusionMatrixDisplay(confusion_matrix=cm, display_labels=clf.classes_)\n",
        "    disp.plot()"
      ]
    },
    {
      "cell_type": "code",
      "execution_count": null,
      "id": "5f0cdb5a-eaaa-4e69-bf7b-f4e4c5070528",
      "metadata": {
        "id": "5f0cdb5a-eaaa-4e69-bf7b-f4e4c5070528",
        "outputId": "e60b5c57-5716-445b-8b12-c351a7a4b1f4"
      },
      "outputs": [
        {
          "name": "stdout",
          "output_type": "stream",
          "text": [
            "Accuracy: 0.9746835443037974\n",
            "ROC AUC score: 0.9953271028037384\n"
          ]
        },
        {
          "data": {
            "image/png": "[encoded data removed]",
            "text/plain": [
              "<Figure size 640x480 with 2 Axes>"
            ]
          },
          "metadata": {},
          "output_type": "display_data"
        }
      ],
      "source": [
        "train_and_evaluate_classifier( LogisticRegression(random_state=0), X_train, Y_train, X_test, Y_test)"
      ]
    },
    {
      "cell_type": "code",
      "execution_count": null,
      "id": "c21230b1-d4f5-46b3-9524-be36bbcb8b7f",
      "metadata": {
        "id": "c21230b1-d4f5-46b3-9524-be36bbcb8b7f",
        "outputId": "305d5475-ebf1-4109-b818-3fbee00b2a30"
      },
      "outputs": [
        {
          "name": "stdout",
          "output_type": "stream",
          "text": [
            "Accuracy: 0.8924050632911392\n",
            "ROC AUC score: 0.9424592266813268\n"
          ]
        },
        {
          "data": {
            "image/png": "[encoded data removed]",
            "text/plain": [
              "<Figure size 640x480 with 2 Axes>"
            ]
          },
          "metadata": {},
          "output_type": "display_data"
        }
      ],
      "source": [
        "from sklearn.neighbors import KNeighborsClassifier\n",
        "\n",
        "train_and_evaluate_classifier( KNeighborsClassifier(n_neighbors=3), X_train, Y_train, X_test, Y_test)"
      ]
    },
    {
      "cell_type": "code",
      "execution_count": null,
      "id": "9e760efc-2435-42e3-bbc5-bcd162e1c6ba",
      "metadata": {
        "id": "9e760efc-2435-42e3-bbc5-bcd162e1c6ba",
        "outputId": "56ee3c1c-96bf-491c-e8eb-f5fa28c1690f"
      },
      "outputs": [
        {
          "name": "stdout",
          "output_type": "stream",
          "text": [
            "Accuracy: 0.819620253164557\n",
            "ROC AUC score: 0.7718984790177753\n"
          ]
        },
        {
          "data": {
            "image/png": "[encoded data removed]",
            "text/plain": [
              "<Figure size 640x480 with 2 Axes>"
            ]
          },
          "metadata": {},
          "output_type": "display_data"
        }
      ],
      "source": [
        "train_and_evaluate_classifier( KNeighborsClassifier(n_neighbors=1), X_train, Y_train, X_test, Y_test)"
      ]
    },
    {
      "cell_type": "code",
      "execution_count": null,
      "id": "8d9f981b-183e-472b-b5f5-09d35fe9d209",
      "metadata": {
        "id": "8d9f981b-183e-472b-b5f5-09d35fe9d209"
      },
      "outputs": [],
      "source": []
    },
    {
      "cell_type": "code",
      "execution_count": null,
      "id": "27370bef",
      "metadata": {
        "id": "27370bef"
      },
      "outputs": [],
      "source": []
    }
  ],
  "metadata": {
    "kernelspec": {
      "display_name": "Python 3 (ipykernel)",
      "language": "python",
      "name": "python3"
    },
    "language_info": {
      "codemirror_mode": {
        "name": "ipython",
        "version": 3
      },
      "file_extension": ".py",
      "mimetype": "text/x-python",
      "name": "python",
      "nbconvert_exporter": "python",
      "pygments_lexer": "ipython3",
      "version": "3.9.12"
    },
    "colab": {
      "provenance": [],
      "include_colab_link": true
    }
  },
  "nbformat": 4,
  "nbformat_minor": 5
}