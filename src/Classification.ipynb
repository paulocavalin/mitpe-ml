{
  "cells": [
    {
      "cell_type": "markdown",
      "metadata": {
        "id": "view-in-github",
        "colab_type": "text"
      },
      "source": [
        "<a href=\"https://colab.research.google.com/github/paulocavalin/mitpe-ml/blob/main/src/Classification.ipynb\" target=\"_parent\"><img src=\"https://colab.research.google.com/assets/colab-badge.svg\" alt=\"Open In Colab\"/></a>"
      ]
    },
    {
      "cell_type": "code",
      "execution_count": 1,
      "id": "815f5944-fc1c-4367-9e9c-d7dd452bdd2b",
      "metadata": {
        "id": "815f5944-fc1c-4367-9e9c-d7dd452bdd2b"
      },
      "outputs": [],
      "source": [
        "import pandas as pd\n",
        "import numpy as np"
      ]
    },
    {
      "cell_type": "markdown",
      "id": "fafd6f27-1a77-4763-96c3-0b5e8a126a41",
      "metadata": {
        "id": "fafd6f27-1a77-4763-96c3-0b5e8a126a41"
      },
      "source": [
        "### Load tik tac toe dataset"
      ]
    },
    {
      "cell_type": "code",
      "source": [
        "!wget -cv https://archive.ics.uci.edu/ml/machine-learning-databases/tic-tac-toe/tic-tac-toe.data"
      ],
      "metadata": {
        "colab": {
          "base_uri": "https://localhost:8080/"
        },
        "id": "wYmA3v2Stn_C",
        "outputId": "fe9ba111-b073-4a3b-b6dc-0f36634e872f"
      },
      "id": "wYmA3v2Stn_C",
      "execution_count": 4,
      "outputs": [
        {
          "output_type": "stream",
          "name": "stdout",
          "text": [
            "--2023-05-22 13:47:15--  https://archive.ics.uci.edu/ml/machine-learning-databases/tic-tac-toe/tic-tac-toe.data\n",
            "Resolving archive.ics.uci.edu (archive.ics.uci.edu)... 128.195.10.252\n",
            "Connecting to archive.ics.uci.edu (archive.ics.uci.edu)|128.195.10.252|:443... connected.\n",
            "HTTP request sent, awaiting response... 200 OK\n",
            "Length: 25866 (25K) [application/x-httpd-php]\n",
            "Saving to: ‘tic-tac-toe.data’\n",
            "\n",
            "tic-tac-toe.data    100%[===================>]  25.26K  --.-KB/s    in 0.1s    \n",
            "\n",
            "2023-05-22 13:47:16 (196 KB/s) - ‘tic-tac-toe.data’ saved [25866/25866]\n",
            "\n"
          ]
        }
      ]
    },
    {
      "cell_type": "code",
      "execution_count": 5,
      "id": "9b4f2b29-d3e2-4e13-a916-f25686a33bcf",
      "metadata": {
        "id": "9b4f2b29-d3e2-4e13-a916-f25686a33bcf"
      },
      "outputs": [],
      "source": [
        "df = pd.read_csv('tic-tac-toe.data')"
      ]
    },
    {
      "cell_type": "code",
      "execution_count": 6,
      "id": "274c2b06-cd8c-4f96-86f1-420d664b6d6f",
      "metadata": {
        "colab": {
          "base_uri": "https://localhost:8080/",
          "height": 424
        },
        "id": "274c2b06-cd8c-4f96-86f1-420d664b6d6f",
        "outputId": "77b3c58b-4785-45e6-c45b-bf3130239744"
      },
      "outputs": [
        {
          "output_type": "execute_result",
          "data": {
            "text/plain": [
              "     x x.1 x.2 x.3  o o.1 x.4 o.2 o.3  positive\n",
              "0    x   x   x   x  o   o   o   x   o  positive\n",
              "1    x   x   x   x  o   o   o   o   x  positive\n",
              "2    x   x   x   x  o   o   o   b   b  positive\n",
              "3    x   x   x   x  o   o   b   o   b  positive\n",
              "4    x   x   x   x  o   o   b   b   o  positive\n",
              "..  ..  ..  ..  .. ..  ..  ..  ..  ..       ...\n",
              "952  o   x   x   x  o   o   o   x   x  negative\n",
              "953  o   x   o   x  x   o   x   o   x  negative\n",
              "954  o   x   o   x  o   x   x   o   x  negative\n",
              "955  o   x   o   o  x   x   x   o   x  negative\n",
              "956  o   o   x   x  x   o   o   x   x  negative\n",
              "\n",
              "[957 rows x 10 columns]"
            ],
            "text/html": [
              "\n",
              "  <div id=\"df-61cf4656-e60c-4f1f-916f-bec82e7dab58\">\n",
              "    <div class=\"colab-df-container\">\n",
              "      <div>\n",
              "<style scoped>\n",
              "    .dataframe tbody tr th:only-of-type {\n",
              "        vertical-align: middle;\n",
              "    }\n",
              "\n",
              "    .dataframe tbody tr th {\n",
              "        vertical-align: top;\n",
              "    }\n",
              "\n",
              "    .dataframe thead th {\n",
              "        text-align: right;\n",
              "    }\n",
              "</style>\n",
              "<table border=\"1\" class=\"dataframe\">\n",
              "  <thead>\n",
              "    <tr style=\"text-align: right;\">\n",
              "      <th></th>\n",
              "      <th>x</th>\n",
              "      <th>x.1</th>\n",
              "      <th>x.2</th>\n",
              "      <th>x.3</th>\n",
              "      <th>o</th>\n",
              "      <th>o.1</th>\n",
              "      <th>x.4</th>\n",
              "      <th>o.2</th>\n",
              "      <th>o.3</th>\n",
              "      <th>positive</th>\n",
              "    </tr>\n",
              "  </thead>\n",
              "  <tbody>\n",
              "    <tr>\n",
              "      <th>0</th>\n",
              "      <td>x</td>\n",
              "      <td>x</td>\n",
              "      <td>x</td>\n",
              "      <td>x</td>\n",
              "      <td>o</td>\n",
              "      <td>o</td>\n",
              "      <td>o</td>\n",
              "      <td>x</td>\n",
              "      <td>o</td>\n",
              "      <td>positive</td>\n",
              "    </tr>\n",
              "    <tr>\n",
              "      <th>1</th>\n",
              "      <td>x</td>\n",
              "      <td>x</td>\n",
              "      <td>x</td>\n",
              "      <td>x</td>\n",
              "      <td>o</td>\n",
              "      <td>o</td>\n",
              "      <td>o</td>\n",
              "      <td>o</td>\n",
              "      <td>x</td>\n",
              "      <td>positive</td>\n",
              "    </tr>\n",
              "    <tr>\n",
              "      <th>2</th>\n",
              "      <td>x</td>\n",
              "      <td>x</td>\n",
              "      <td>x</td>\n",
              "      <td>x</td>\n",
              "      <td>o</td>\n",
              "      <td>o</td>\n",
              "      <td>o</td>\n",
              "      <td>b</td>\n",
              "      <td>b</td>\n",
              "      <td>positive</td>\n",
              "    </tr>\n",
              "    <tr>\n",
              "      <th>3</th>\n",
              "      <td>x</td>\n",
              "      <td>x</td>\n",
              "      <td>x</td>\n",
              "      <td>x</td>\n",
              "      <td>o</td>\n",
              "      <td>o</td>\n",
              "      <td>b</td>\n",
              "      <td>o</td>\n",
              "      <td>b</td>\n",
              "      <td>positive</td>\n",
              "    </tr>\n",
              "    <tr>\n",
              "      <th>4</th>\n",
              "      <td>x</td>\n",
              "      <td>x</td>\n",
              "      <td>x</td>\n",
              "      <td>x</td>\n",
              "      <td>o</td>\n",
              "      <td>o</td>\n",
              "      <td>b</td>\n",
              "      <td>b</td>\n",
              "      <td>o</td>\n",
              "      <td>positive</td>\n",
              "    </tr>\n",
              "    <tr>\n",
              "      <th>...</th>\n",
              "      <td>...</td>\n",
              "      <td>...</td>\n",
              "      <td>...</td>\n",
              "      <td>...</td>\n",
              "      <td>...</td>\n",
              "      <td>...</td>\n",
              "      <td>...</td>\n",
              "      <td>...</td>\n",
              "      <td>...</td>\n",
              "      <td>...</td>\n",
              "    </tr>\n",
              "    <tr>\n",
              "      <th>952</th>\n",
              "      <td>o</td>\n",
              "      <td>x</td>\n",
              "      <td>x</td>\n",
              "      <td>x</td>\n",
              "      <td>o</td>\n",
              "      <td>o</td>\n",
              "      <td>o</td>\n",
              "      <td>x</td>\n",
              "      <td>x</td>\n",
              "      <td>negative</td>\n",
              "    </tr>\n",
              "    <tr>\n",
              "      <th>953</th>\n",
              "      <td>o</td>\n",
              "      <td>x</td>\n",
              "      <td>o</td>\n",
              "      <td>x</td>\n",
              "      <td>x</td>\n",
              "      <td>o</td>\n",
              "      <td>x</td>\n",
              "      <td>o</td>\n",
              "      <td>x</td>\n",
              "      <td>negative</td>\n",
              "    </tr>\n",
              "    <tr>\n",
              "      <th>954</th>\n",
              "      <td>o</td>\n",
              "      <td>x</td>\n",
              "      <td>o</td>\n",
              "      <td>x</td>\n",
              "      <td>o</td>\n",
              "      <td>x</td>\n",
              "      <td>x</td>\n",
              "      <td>o</td>\n",
              "      <td>x</td>\n",
              "      <td>negative</td>\n",
              "    </tr>\n",
              "    <tr>\n",
              "      <th>955</th>\n",
              "      <td>o</td>\n",
              "      <td>x</td>\n",
              "      <td>o</td>\n",
              "      <td>o</td>\n",
              "      <td>x</td>\n",
              "      <td>x</td>\n",
              "      <td>x</td>\n",
              "      <td>o</td>\n",
              "      <td>x</td>\n",
              "      <td>negative</td>\n",
              "    </tr>\n",
              "    <tr>\n",
              "      <th>956</th>\n",
              "      <td>o</td>\n",
              "      <td>o</td>\n",
              "      <td>x</td>\n",
              "      <td>x</td>\n",
              "      <td>x</td>\n",
              "      <td>o</td>\n",
              "      <td>o</td>\n",
              "      <td>x</td>\n",
              "      <td>x</td>\n",
              "      <td>negative</td>\n",
              "    </tr>\n",
              "  </tbody>\n",
              "</table>\n",
              "<p>957 rows × 10 columns</p>\n",
              "</div>\n",
              "      <button class=\"colab-df-convert\" onclick=\"convertToInteractive('df-61cf4656-e60c-4f1f-916f-bec82e7dab58')\"\n",
              "              title=\"Convert this dataframe to an interactive table.\"\n",
              "              style=\"display:none;\">\n",
              "        \n",
              "  <svg xmlns=\"http://www.w3.org/2000/svg\" height=\"24px\"viewBox=\"0 0 24 24\"\n",
              "       width=\"24px\">\n",
              "    <path d=\"M0 0h24v24H0V0z\" fill=\"none\"/>\n",
              "    <path d=\"M18.56 5.44l.94 2.06.94-2.06 2.06-.94-2.06-.94-.94-2.06-.94 2.06-2.06.94zm-11 1L8.5 8.5l.94-2.06 2.06-.94-2.06-.94L8.5 2.5l-.94 2.06-2.06.94zm10 10l.94 2.06.94-2.06 2.06-.94-2.06-.94-.94-2.06-.94 2.06-2.06.94z\"/><path d=\"M17.41 7.96l-1.37-1.37c-.4-.4-.92-.59-1.43-.59-.52 0-1.04.2-1.43.59L10.3 9.45l-7.72 7.72c-.78.78-.78 2.05 0 2.83L4 21.41c.39.39.9.59 1.41.59.51 0 1.02-.2 1.41-.59l7.78-7.78 2.81-2.81c.8-.78.8-2.07 0-2.86zM5.41 20L4 18.59l7.72-7.72 1.47 1.35L5.41 20z\"/>\n",
              "  </svg>\n",
              "      </button>\n",
              "      \n",
              "  <style>\n",
              "    .colab-df-container {\n",
              "      display:flex;\n",
              "      flex-wrap:wrap;\n",
              "      gap: 12px;\n",
              "    }\n",
              "\n",
              "    .colab-df-convert {\n",
              "      background-color: #E8F0FE;\n",
              "      border: none;\n",
              "      border-radius: 50%;\n",
              "      cursor: pointer;\n",
              "      display: none;\n",
              "      fill: #1967D2;\n",
              "      height: 32px;\n",
              "      padding: 0 0 0 0;\n",
              "      width: 32px;\n",
              "    }\n",
              "\n",
              "    .colab-df-convert:hover {\n",
              "      background-color: #E2EBFA;\n",
              "      box-shadow: 0px 1px 2px rgba(60, 64, 67, 0.3), 0px 1px 3px 1px rgba(60, 64, 67, 0.15);\n",
              "      fill: #174EA6;\n",
              "    }\n",
              "\n",
              "    [theme=dark] .colab-df-convert {\n",
              "      background-color: #3B4455;\n",
              "      fill: #D2E3FC;\n",
              "    }\n",
              "\n",
              "    [theme=dark] .colab-df-convert:hover {\n",
              "      background-color: #434B5C;\n",
              "      box-shadow: 0px 1px 3px 1px rgba(0, 0, 0, 0.15);\n",
              "      filter: drop-shadow(0px 1px 2px rgba(0, 0, 0, 0.3));\n",
              "      fill: #FFFFFF;\n",
              "    }\n",
              "  </style>\n",
              "\n",
              "      <script>\n",
              "        const buttonEl =\n",
              "          document.querySelector('#df-61cf4656-e60c-4f1f-916f-bec82e7dab58 button.colab-df-convert');\n",
              "        buttonEl.style.display =\n",
              "          google.colab.kernel.accessAllowed ? 'block' : 'none';\n",
              "\n",
              "        async function convertToInteractive(key) {\n",
              "          const element = document.querySelector('#df-61cf4656-e60c-4f1f-916f-bec82e7dab58');\n",
              "          const dataTable =\n",
              "            await google.colab.kernel.invokeFunction('convertToInteractive',\n",
              "                                                     [key], {});\n",
              "          if (!dataTable) return;\n",
              "\n",
              "          const docLinkHtml = 'Like what you see? Visit the ' +\n",
              "            '<a target=\"_blank\" href=https://colab.research.google.com/notebooks/data_table.ipynb>data table notebook</a>'\n",
              "            + ' to learn more about interactive tables.';\n",
              "          element.innerHTML = '';\n",
              "          dataTable['output_type'] = 'display_data';\n",
              "          await google.colab.output.renderOutput(dataTable, element);\n",
              "          const docLink = document.createElement('div');\n",
              "          docLink.innerHTML = docLinkHtml;\n",
              "          element.appendChild(docLink);\n",
              "        }\n",
              "      </script>\n",
              "    </div>\n",
              "  </div>\n",
              "  "
            ]
          },
          "metadata": {},
          "execution_count": 6
        }
      ],
      "source": [
        "df"
      ]
    },
    {
      "cell_type": "code",
      "execution_count": 7,
      "id": "afbd8820",
      "metadata": {
        "colab": {
          "base_uri": "https://localhost:8080/"
        },
        "id": "afbd8820",
        "outputId": "aeca4398-2458-4b08-98af-2fa874b58196"
      },
      "outputs": [
        {
          "output_type": "execute_result",
          "data": {
            "text/plain": [
              "x           625\n",
              "x.1         625\n",
              "x.2         625\n",
              "x.3         625\n",
              "o           625\n",
              "o.1         625\n",
              "x.4         625\n",
              "o.2         625\n",
              "o.3         625\n",
              "positive    625\n",
              "dtype: int64"
            ]
          },
          "metadata": {},
          "execution_count": 7
        }
      ],
      "source": [
        " df.loc[df.positive == 'positive'].count()"
      ]
    },
    {
      "cell_type": "code",
      "execution_count": 8,
      "id": "ef1ed4ad",
      "metadata": {
        "colab": {
          "base_uri": "https://localhost:8080/"
        },
        "id": "ef1ed4ad",
        "outputId": "3f21dde9-57dd-4a43-ce3f-e1839ea8c69e"
      },
      "outputs": [
        {
          "output_type": "execute_result",
          "data": {
            "text/plain": [
              "x           332\n",
              "x.1         332\n",
              "x.2         332\n",
              "x.3         332\n",
              "o           332\n",
              "o.1         332\n",
              "x.4         332\n",
              "o.2         332\n",
              "o.3         332\n",
              "positive    332\n",
              "dtype: int64"
            ]
          },
          "metadata": {},
          "execution_count": 8
        }
      ],
      "source": [
        " df.loc[df.positive == 'negative'].count()"
      ]
    },
    {
      "cell_type": "markdown",
      "id": "1833697a-c1bd-4101-ae73-212ac0d4cebd",
      "metadata": {
        "id": "1833697a-c1bd-4101-ae73-212ac0d4cebd"
      },
      "source": [
        "### Extract data columns"
      ]
    },
    {
      "cell_type": "code",
      "execution_count": 10,
      "id": "4e46d559-e19b-4f80-8037-db18be23d420",
      "metadata": {
        "id": "4e46d559-e19b-4f80-8037-db18be23d420"
      },
      "outputs": [],
      "source": [
        "X = df.loc[:, df.columns != 'positive'].to_numpy()"
      ]
    },
    {
      "cell_type": "code",
      "execution_count": 11,
      "id": "48d1b5be-6852-4a94-b874-6e22cec552c5",
      "metadata": {
        "colab": {
          "base_uri": "https://localhost:8080/"
        },
        "id": "48d1b5be-6852-4a94-b874-6e22cec552c5",
        "outputId": "dc0b9a2d-b079-4f77-8260-bc03ed2232fd"
      },
      "outputs": [
        {
          "output_type": "execute_result",
          "data": {
            "text/plain": [
              "array([['x', 'x', 'x', ..., 'o', 'x', 'o'],\n",
              "       ['x', 'x', 'x', ..., 'o', 'o', 'x'],\n",
              "       ['x', 'x', 'x', ..., 'o', 'b', 'b'],\n",
              "       ...,\n",
              "       ['o', 'x', 'o', ..., 'x', 'o', 'x'],\n",
              "       ['o', 'x', 'o', ..., 'x', 'o', 'x'],\n",
              "       ['o', 'o', 'x', ..., 'o', 'x', 'x']], dtype=object)"
            ]
          },
          "metadata": {},
          "execution_count": 11
        }
      ],
      "source": [
        "X"
      ]
    },
    {
      "cell_type": "markdown",
      "id": "61160806-3bda-4ee0-9385-5a4a6c5dee0a",
      "metadata": {
        "id": "61160806-3bda-4ee0-9385-5a4a6c5dee0a"
      },
      "source": [
        "### Extract label column"
      ]
    },
    {
      "cell_type": "code",
      "execution_count": 12,
      "id": "c936e6ff-2506-4681-98c5-88c11b0d4626",
      "metadata": {
        "id": "c936e6ff-2506-4681-98c5-88c11b0d4626"
      },
      "outputs": [],
      "source": [
        "Y = df['positive']"
      ]
    },
    {
      "cell_type": "code",
      "execution_count": 13,
      "id": "1d341b59-d5a1-4279-a73c-45fc8a02ba89",
      "metadata": {
        "colab": {
          "base_uri": "https://localhost:8080/"
        },
        "id": "1d341b59-d5a1-4279-a73c-45fc8a02ba89",
        "outputId": "171aaff2-a29e-48dd-b340-25c565bbd977"
      },
      "outputs": [
        {
          "output_type": "execute_result",
          "data": {
            "text/plain": [
              "0      positive\n",
              "1      positive\n",
              "2      positive\n",
              "3      positive\n",
              "4      positive\n",
              "         ...   \n",
              "952    negative\n",
              "953    negative\n",
              "954    negative\n",
              "955    negative\n",
              "956    negative\n",
              "Name: positive, Length: 957, dtype: object"
            ]
          },
          "metadata": {},
          "execution_count": 13
        }
      ],
      "source": [
        "Y"
      ]
    },
    {
      "cell_type": "markdown",
      "id": "4e651a56-88df-414d-9d37-e97eb37e1ae1",
      "metadata": {
        "id": "4e651a56-88df-414d-9d37-e97eb37e1ae1"
      },
      "source": [
        "## Convert CATEGORICAL features to 1-HOT-ENCODING"
      ]
    },
    {
      "cell_type": "code",
      "execution_count": 14,
      "id": "37f1c7ab-cc60-42be-8e44-d78c438ad231",
      "metadata": {
        "id": "37f1c7ab-cc60-42be-8e44-d78c438ad231"
      },
      "outputs": [],
      "source": [
        "from sklearn.preprocessing import OneHotEncoder"
      ]
    },
    {
      "cell_type": "code",
      "execution_count": 15,
      "id": "366987b7-66f4-4ca6-8b9d-06b4fc9733f1",
      "metadata": {
        "id": "366987b7-66f4-4ca6-8b9d-06b4fc9733f1"
      },
      "outputs": [],
      "source": [
        "enc = OneHotEncoder(handle_unknown='ignore')"
      ]
    },
    {
      "cell_type": "code",
      "execution_count": 16,
      "id": "56467c84-2f15-484a-ad3f-952683218e56",
      "metadata": {
        "colab": {
          "base_uri": "https://localhost:8080/",
          "height": 75
        },
        "id": "56467c84-2f15-484a-ad3f-952683218e56",
        "outputId": "ac08f45f-53d5-4132-aba7-5e1817ce8bce"
      },
      "outputs": [
        {
          "output_type": "execute_result",
          "data": {
            "text/plain": [
              "OneHotEncoder(handle_unknown='ignore')"
            ],
            "text/html": [
              "<style>#sk-container-id-1 {color: black;background-color: white;}#sk-container-id-1 pre{padding: 0;}#sk-container-id-1 div.sk-toggleable {background-color: white;}#sk-container-id-1 label.sk-toggleable__label {cursor: pointer;display: block;width: 100%;margin-bottom: 0;padding: 0.3em;box-sizing: border-box;text-align: center;}#sk-container-id-1 label.sk-toggleable__label-arrow:before {content: \"▸\";float: left;margin-right: 0.25em;color: #696969;}#sk-container-id-1 label.sk-toggleable__label-arrow:hover:before {color: black;}#sk-container-id-1 div.sk-estimator:hover label.sk-toggleable__label-arrow:before {color: black;}#sk-container-id-1 div.sk-toggleable__content {max-height: 0;max-width: 0;overflow: hidden;text-align: left;background-color: #f0f8ff;}#sk-container-id-1 div.sk-toggleable__content pre {margin: 0.2em;color: black;border-radius: 0.25em;background-color: #f0f8ff;}#sk-container-id-1 input.sk-toggleable__control:checked~div.sk-toggleable__content {max-height: 200px;max-width: 100%;overflow: auto;}#sk-container-id-1 input.sk-toggleable__control:checked~label.sk-toggleable__label-arrow:before {content: \"▾\";}#sk-container-id-1 div.sk-estimator input.sk-toggleable__control:checked~label.sk-toggleable__label {background-color: #d4ebff;}#sk-container-id-1 div.sk-label input.sk-toggleable__control:checked~label.sk-toggleable__label {background-color: #d4ebff;}#sk-container-id-1 input.sk-hidden--visually {border: 0;clip: rect(1px 1px 1px 1px);clip: rect(1px, 1px, 1px, 1px);height: 1px;margin: -1px;overflow: hidden;padding: 0;position: absolute;width: 1px;}#sk-container-id-1 div.sk-estimator {font-family: monospace;background-color: #f0f8ff;border: 1px dotted black;border-radius: 0.25em;box-sizing: border-box;margin-bottom: 0.5em;}#sk-container-id-1 div.sk-estimator:hover {background-color: #d4ebff;}#sk-container-id-1 div.sk-parallel-item::after {content: \"\";width: 100%;border-bottom: 1px solid gray;flex-grow: 1;}#sk-container-id-1 div.sk-label:hover label.sk-toggleable__label {background-color: #d4ebff;}#sk-container-id-1 div.sk-serial::before {content: \"\";position: absolute;border-left: 1px solid gray;box-sizing: border-box;top: 0;bottom: 0;left: 50%;z-index: 0;}#sk-container-id-1 div.sk-serial {display: flex;flex-direction: column;align-items: center;background-color: white;padding-right: 0.2em;padding-left: 0.2em;position: relative;}#sk-container-id-1 div.sk-item {position: relative;z-index: 1;}#sk-container-id-1 div.sk-parallel {display: flex;align-items: stretch;justify-content: center;background-color: white;position: relative;}#sk-container-id-1 div.sk-item::before, #sk-container-id-1 div.sk-parallel-item::before {content: \"\";position: absolute;border-left: 1px solid gray;box-sizing: border-box;top: 0;bottom: 0;left: 50%;z-index: -1;}#sk-container-id-1 div.sk-parallel-item {display: flex;flex-direction: column;z-index: 1;position: relative;background-color: white;}#sk-container-id-1 div.sk-parallel-item:first-child::after {align-self: flex-end;width: 50%;}#sk-container-id-1 div.sk-parallel-item:last-child::after {align-self: flex-start;width: 50%;}#sk-container-id-1 div.sk-parallel-item:only-child::after {width: 0;}#sk-container-id-1 div.sk-dashed-wrapped {border: 1px dashed gray;margin: 0 0.4em 0.5em 0.4em;box-sizing: border-box;padding-bottom: 0.4em;background-color: white;}#sk-container-id-1 div.sk-label label {font-family: monospace;font-weight: bold;display: inline-block;line-height: 1.2em;}#sk-container-id-1 div.sk-label-container {text-align: center;}#sk-container-id-1 div.sk-container {/* jupyter's `normalize.less` sets `[hidden] { display: none; }` but bootstrap.min.css set `[hidden] { display: none !important; }` so we also need the `!important` here to be able to override the default hidden behavior on the sphinx rendered scikit-learn.org. See: https://github.com/scikit-learn/scikit-learn/issues/21755 */display: inline-block !important;position: relative;}#sk-container-id-1 div.sk-text-repr-fallback {display: none;}</style><div id=\"sk-container-id-1\" class=\"sk-top-container\"><div class=\"sk-text-repr-fallback\"><pre>OneHotEncoder(handle_unknown=&#x27;ignore&#x27;)</pre><b>In a Jupyter environment, please rerun this cell to show the HTML representation or trust the notebook. <br />On GitHub, the HTML representation is unable to render, please try loading this page with nbviewer.org.</b></div><div class=\"sk-container\" hidden><div class=\"sk-item\"><div class=\"sk-estimator sk-toggleable\"><input class=\"sk-toggleable__control sk-hidden--visually\" id=\"sk-estimator-id-1\" type=\"checkbox\" checked><label for=\"sk-estimator-id-1\" class=\"sk-toggleable__label sk-toggleable__label-arrow\">OneHotEncoder</label><div class=\"sk-toggleable__content\"><pre>OneHotEncoder(handle_unknown=&#x27;ignore&#x27;)</pre></div></div></div></div></div>"
            ]
          },
          "metadata": {},
          "execution_count": 16
        }
      ],
      "source": [
        "enc.fit(X)"
      ]
    },
    {
      "cell_type": "code",
      "execution_count": 17,
      "id": "77ae55f4-ac46-4e3f-8d67-56934dc8dc81",
      "metadata": {
        "colab": {
          "base_uri": "https://localhost:8080/"
        },
        "id": "77ae55f4-ac46-4e3f-8d67-56934dc8dc81",
        "outputId": "07a1cf38-b952-4338-f9fd-697f7b761209"
      },
      "outputs": [
        {
          "output_type": "execute_result",
          "data": {
            "text/plain": [
              "[array(['b', 'o', 'x'], dtype=object),\n",
              " array(['b', 'o', 'x'], dtype=object),\n",
              " array(['b', 'o', 'x'], dtype=object),\n",
              " array(['b', 'o', 'x'], dtype=object),\n",
              " array(['b', 'o', 'x'], dtype=object),\n",
              " array(['b', 'o', 'x'], dtype=object),\n",
              " array(['b', 'o', 'x'], dtype=object),\n",
              " array(['b', 'o', 'x'], dtype=object),\n",
              " array(['b', 'o', 'x'], dtype=object)]"
            ]
          },
          "metadata": {},
          "execution_count": 17
        }
      ],
      "source": [
        "enc.categories_"
      ]
    },
    {
      "cell_type": "code",
      "execution_count": 18,
      "id": "a8b96522-9d49-4883-9964-523a7880ab73",
      "metadata": {
        "id": "a8b96522-9d49-4883-9964-523a7880ab73"
      },
      "outputs": [],
      "source": [
        "X_1hot = enc.transform( X ).toarray()"
      ]
    },
    {
      "cell_type": "code",
      "execution_count": 19,
      "id": "4f11fb47-f522-4efd-8098-1d2292459157",
      "metadata": {
        "colab": {
          "base_uri": "https://localhost:8080/"
        },
        "id": "4f11fb47-f522-4efd-8098-1d2292459157",
        "outputId": "594a87a6-d210-49dd-81b0-0a3177de8f75"
      },
      "outputs": [
        {
          "output_type": "execute_result",
          "data": {
            "text/plain": [
              "array([[0., 0., 1., ..., 0., 1., 0.],\n",
              "       [0., 0., 1., ..., 0., 0., 1.],\n",
              "       [0., 0., 1., ..., 1., 0., 0.],\n",
              "       ...,\n",
              "       [0., 1., 0., ..., 0., 0., 1.],\n",
              "       [0., 1., 0., ..., 0., 0., 1.],\n",
              "       [0., 1., 0., ..., 0., 0., 1.]])"
            ]
          },
          "metadata": {},
          "execution_count": 19
        }
      ],
      "source": [
        "X_1hot"
      ]
    },
    {
      "cell_type": "code",
      "execution_count": 20,
      "id": "0d899532-cc13-430f-b9d8-e7ee6cd27d8f",
      "metadata": {
        "colab": {
          "base_uri": "https://localhost:8080/"
        },
        "id": "0d899532-cc13-430f-b9d8-e7ee6cd27d8f",
        "outputId": "aeeeda99-166e-41c1-a97f-7ac5175e6391"
      },
      "outputs": [
        {
          "output_type": "execute_result",
          "data": {
            "text/plain": [
              "array(['x', 'x', 'x', 'x', 'o', 'o', 'b', 'o', 'b'], dtype=object)"
            ]
          },
          "metadata": {},
          "execution_count": 20
        }
      ],
      "source": [
        "X[3]"
      ]
    },
    {
      "cell_type": "code",
      "execution_count": 21,
      "id": "42cb9180-fab8-43ce-84dd-624653b8ecce",
      "metadata": {
        "colab": {
          "base_uri": "https://localhost:8080/"
        },
        "id": "42cb9180-fab8-43ce-84dd-624653b8ecce",
        "outputId": "51c9e02d-1d00-4907-bac3-dfe567dccafe"
      },
      "outputs": [
        {
          "output_type": "execute_result",
          "data": {
            "text/plain": [
              "array([0., 0., 1., 0., 0., 1., 0., 0., 1., 0., 0., 1., 0., 1., 0., 0., 1.,\n",
              "       0., 1., 0., 0., 0., 1., 0., 1., 0., 0.])"
            ]
          },
          "metadata": {},
          "execution_count": 21
        }
      ],
      "source": [
        "X_1hot[3]"
      ]
    },
    {
      "cell_type": "markdown",
      "id": "a965340e-7b48-457c-b8df-f00f45a6f41d",
      "metadata": {
        "id": "a965340e-7b48-457c-b8df-f00f45a6f41d"
      },
      "source": [
        "## Split data set into train and test sets"
      ]
    },
    {
      "cell_type": "code",
      "execution_count": 22,
      "id": "1d624a8a-5cc9-4287-9979-c9c73e3d0bd4",
      "metadata": {
        "id": "1d624a8a-5cc9-4287-9979-c9c73e3d0bd4"
      },
      "outputs": [],
      "source": [
        "from sklearn.model_selection import train_test_split"
      ]
    },
    {
      "cell_type": "code",
      "execution_count": 23,
      "id": "648e787f-24ae-48cb-a5aa-c6040f2fc334",
      "metadata": {
        "id": "648e787f-24ae-48cb-a5aa-c6040f2fc334"
      },
      "outputs": [],
      "source": [
        "X_train, X_test, Y_train, Y_test = train_test_split(X_1hot, Y, test_size=0.33, random_state=42)"
      ]
    },
    {
      "cell_type": "markdown",
      "id": "0ba9da11-26ef-405a-b11a-18695d23f4c7",
      "metadata": {
        "id": "0ba9da11-26ef-405a-b11a-18695d23f4c7"
      },
      "source": [
        "## Train classifiers "
      ]
    },
    {
      "cell_type": "code",
      "execution_count": 24,
      "id": "a5270ca4-6043-4d53-ab40-446f556167df",
      "metadata": {
        "id": "a5270ca4-6043-4d53-ab40-446f556167df"
      },
      "outputs": [],
      "source": [
        "from sklearn.linear_model import LogisticRegression"
      ]
    },
    {
      "cell_type": "code",
      "execution_count": 25,
      "id": "a29594f9-ec07-4608-b444-777ca1f6bb11",
      "metadata": {
        "id": "a29594f9-ec07-4608-b444-777ca1f6bb11"
      },
      "outputs": [],
      "source": [
        "clf = LogisticRegression(random_state=0)"
      ]
    },
    {
      "cell_type": "code",
      "execution_count": 26,
      "id": "0e968190-6938-437c-ab94-775ae2351e37",
      "metadata": {
        "colab": {
          "base_uri": "https://localhost:8080/",
          "height": 75
        },
        "id": "0e968190-6938-437c-ab94-775ae2351e37",
        "outputId": "1fc7436b-8685-4cac-8523-563004c9db66"
      },
      "outputs": [
        {
          "output_type": "execute_result",
          "data": {
            "text/plain": [
              "LogisticRegression(random_state=0)"
            ],
            "text/html": [
              "<style>#sk-container-id-2 {color: black;background-color: white;}#sk-container-id-2 pre{padding: 0;}#sk-container-id-2 div.sk-toggleable {background-color: white;}#sk-container-id-2 label.sk-toggleable__label {cursor: pointer;display: block;width: 100%;margin-bottom: 0;padding: 0.3em;box-sizing: border-box;text-align: center;}#sk-container-id-2 label.sk-toggleable__label-arrow:before {content: \"▸\";float: left;margin-right: 0.25em;color: #696969;}#sk-container-id-2 label.sk-toggleable__label-arrow:hover:before {color: black;}#sk-container-id-2 div.sk-estimator:hover label.sk-toggleable__label-arrow:before {color: black;}#sk-container-id-2 div.sk-toggleable__content {max-height: 0;max-width: 0;overflow: hidden;text-align: left;background-color: #f0f8ff;}#sk-container-id-2 div.sk-toggleable__content pre {margin: 0.2em;color: black;border-radius: 0.25em;background-color: #f0f8ff;}#sk-container-id-2 input.sk-toggleable__control:checked~div.sk-toggleable__content {max-height: 200px;max-width: 100%;overflow: auto;}#sk-container-id-2 input.sk-toggleable__control:checked~label.sk-toggleable__label-arrow:before {content: \"▾\";}#sk-container-id-2 div.sk-estimator input.sk-toggleable__control:checked~label.sk-toggleable__label {background-color: #d4ebff;}#sk-container-id-2 div.sk-label input.sk-toggleable__control:checked~label.sk-toggleable__label {background-color: #d4ebff;}#sk-container-id-2 input.sk-hidden--visually {border: 0;clip: rect(1px 1px 1px 1px);clip: rect(1px, 1px, 1px, 1px);height: 1px;margin: -1px;overflow: hidden;padding: 0;position: absolute;width: 1px;}#sk-container-id-2 div.sk-estimator {font-family: monospace;background-color: #f0f8ff;border: 1px dotted black;border-radius: 0.25em;box-sizing: border-box;margin-bottom: 0.5em;}#sk-container-id-2 div.sk-estimator:hover {background-color: #d4ebff;}#sk-container-id-2 div.sk-parallel-item::after {content: \"\";width: 100%;border-bottom: 1px solid gray;flex-grow: 1;}#sk-container-id-2 div.sk-label:hover label.sk-toggleable__label {background-color: #d4ebff;}#sk-container-id-2 div.sk-serial::before {content: \"\";position: absolute;border-left: 1px solid gray;box-sizing: border-box;top: 0;bottom: 0;left: 50%;z-index: 0;}#sk-container-id-2 div.sk-serial {display: flex;flex-direction: column;align-items: center;background-color: white;padding-right: 0.2em;padding-left: 0.2em;position: relative;}#sk-container-id-2 div.sk-item {position: relative;z-index: 1;}#sk-container-id-2 div.sk-parallel {display: flex;align-items: stretch;justify-content: center;background-color: white;position: relative;}#sk-container-id-2 div.sk-item::before, #sk-container-id-2 div.sk-parallel-item::before {content: \"\";position: absolute;border-left: 1px solid gray;box-sizing: border-box;top: 0;bottom: 0;left: 50%;z-index: -1;}#sk-container-id-2 div.sk-parallel-item {display: flex;flex-direction: column;z-index: 1;position: relative;background-color: white;}#sk-container-id-2 div.sk-parallel-item:first-child::after {align-self: flex-end;width: 50%;}#sk-container-id-2 div.sk-parallel-item:last-child::after {align-self: flex-start;width: 50%;}#sk-container-id-2 div.sk-parallel-item:only-child::after {width: 0;}#sk-container-id-2 div.sk-dashed-wrapped {border: 1px dashed gray;margin: 0 0.4em 0.5em 0.4em;box-sizing: border-box;padding-bottom: 0.4em;background-color: white;}#sk-container-id-2 div.sk-label label {font-family: monospace;font-weight: bold;display: inline-block;line-height: 1.2em;}#sk-container-id-2 div.sk-label-container {text-align: center;}#sk-container-id-2 div.sk-container {/* jupyter's `normalize.less` sets `[hidden] { display: none; }` but bootstrap.min.css set `[hidden] { display: none !important; }` so we also need the `!important` here to be able to override the default hidden behavior on the sphinx rendered scikit-learn.org. See: https://github.com/scikit-learn/scikit-learn/issues/21755 */display: inline-block !important;position: relative;}#sk-container-id-2 div.sk-text-repr-fallback {display: none;}</style><div id=\"sk-container-id-2\" class=\"sk-top-container\"><div class=\"sk-text-repr-fallback\"><pre>LogisticRegression(random_state=0)</pre><b>In a Jupyter environment, please rerun this cell to show the HTML representation or trust the notebook. <br />On GitHub, the HTML representation is unable to render, please try loading this page with nbviewer.org.</b></div><div class=\"sk-container\" hidden><div class=\"sk-item\"><div class=\"sk-estimator sk-toggleable\"><input class=\"sk-toggleable__control sk-hidden--visually\" id=\"sk-estimator-id-2\" type=\"checkbox\" checked><label for=\"sk-estimator-id-2\" class=\"sk-toggleable__label sk-toggleable__label-arrow\">LogisticRegression</label><div class=\"sk-toggleable__content\"><pre>LogisticRegression(random_state=0)</pre></div></div></div></div></div>"
            ]
          },
          "metadata": {},
          "execution_count": 26
        }
      ],
      "source": [
        "clf.fit(X_train, Y_train)"
      ]
    },
    {
      "cell_type": "code",
      "execution_count": 27,
      "id": "6a7ffbd4-fd71-48a0-926a-f0c546e5def9",
      "metadata": {
        "id": "6a7ffbd4-fd71-48a0-926a-f0c546e5def9"
      },
      "outputs": [],
      "source": [
        "y_pred = clf.predict(X_test)"
      ]
    },
    {
      "cell_type": "code",
      "execution_count": 28,
      "id": "d50f9638-72c5-4df6-b816-20c931f8fdb8",
      "metadata": {
        "colab": {
          "base_uri": "https://localhost:8080/"
        },
        "id": "d50f9638-72c5-4df6-b816-20c931f8fdb8",
        "outputId": "2b844376-0da2-4d23-9a90-453ed39519f4"
      },
      "outputs": [
        {
          "output_type": "execute_result",
          "data": {
            "text/plain": [
              "835    negative\n",
              "477    positive\n",
              "350    positive\n",
              "890    negative\n",
              "854    negative\n",
              "261    positive\n",
              "215    positive\n",
              "334    positive\n",
              "86     positive\n",
              "908    negative\n",
              "Name: positive, dtype: object"
            ]
          },
          "metadata": {},
          "execution_count": 28
        }
      ],
      "source": [
        "Y_test[:10]"
      ]
    },
    {
      "cell_type": "code",
      "execution_count": 29,
      "id": "fc097ae0-79bc-4a52-8438-2042819a2f07",
      "metadata": {
        "colab": {
          "base_uri": "https://localhost:8080/"
        },
        "id": "fc097ae0-79bc-4a52-8438-2042819a2f07",
        "outputId": "17ec0bbd-4ef8-42e8-9071-0f234d8c8026"
      },
      "outputs": [
        {
          "output_type": "execute_result",
          "data": {
            "text/plain": [
              "array(['negative', 'positive', 'positive', 'negative', 'negative',\n",
              "       'positive', 'positive', 'positive', 'positive', 'negative'],\n",
              "      dtype=object)"
            ]
          },
          "metadata": {},
          "execution_count": 29
        }
      ],
      "source": [
        "y_pred[:10]"
      ]
    },
    {
      "cell_type": "markdown",
      "id": "16fc65ae",
      "metadata": {
        "id": "16fc65ae"
      },
      "source": [
        "### Predict the probability of positive winning"
      ]
    },
    {
      "cell_type": "code",
      "execution_count": 30,
      "id": "37744ece",
      "metadata": {
        "colab": {
          "base_uri": "https://localhost:8080/"
        },
        "id": "37744ece",
        "outputId": "1897cf24-3eb1-4e10-ecec-0e29fbc9d191"
      },
      "outputs": [
        {
          "output_type": "stream",
          "name": "stdout",
          "text": [
            "['negative']\n",
            "[[0.74145624 0.25854376]]\n"
          ]
        }
      ],
      "source": [
        "unseen_X = enc.transform([['x', 'o', 'b',  \n",
        "                           'x', 'o', 'x', \n",
        "                           'b', 'o', 'b']])\n",
        "\n",
        "print(clf.predict(unseen_X))\n",
        "print(clf.predict_proba(unseen_X))"
      ]
    },
    {
      "cell_type": "markdown",
      "id": "36c49813",
      "metadata": {
        "id": "36c49813"
      },
      "source": [
        "## Evaluation metrics"
      ]
    },
    {
      "cell_type": "markdown",
      "id": "b1da5766-b701-41a3-a008-bfeabdf808f4",
      "metadata": {
        "id": "b1da5766-b701-41a3-a008-bfeabdf808f4"
      },
      "source": [
        "### Compute accuracy"
      ]
    },
    {
      "cell_type": "code",
      "execution_count": 31,
      "id": "baa0b34f-1602-486a-91ec-468da000baf2",
      "metadata": {
        "id": "baa0b34f-1602-486a-91ec-468da000baf2"
      },
      "outputs": [],
      "source": [
        "from sklearn.metrics import accuracy_score"
      ]
    },
    {
      "cell_type": "code",
      "execution_count": 32,
      "id": "8f985a43-cf1e-407f-b197-cb4580984c32",
      "metadata": {
        "colab": {
          "base_uri": "https://localhost:8080/"
        },
        "id": "8f985a43-cf1e-407f-b197-cb4580984c32",
        "outputId": "13c4c2a9-05df-481e-baae-759e761be17b"
      },
      "outputs": [
        {
          "output_type": "execute_result",
          "data": {
            "text/plain": [
              "0.9746835443037974"
            ]
          },
          "metadata": {},
          "execution_count": 32
        }
      ],
      "source": [
        "accuracy_score(Y_test, y_pred)"
      ]
    },
    {
      "cell_type": "markdown",
      "id": "982e4276",
      "metadata": {
        "id": "982e4276"
      },
      "source": [
        "### Evaluate model with cross validation"
      ]
    },
    {
      "cell_type": "code",
      "execution_count": 33,
      "id": "a21fdb1c",
      "metadata": {
        "id": "a21fdb1c"
      },
      "outputs": [],
      "source": [
        "from sklearn.linear_model import LogisticRegression\n",
        "from sklearn.model_selection import cross_val_score\n",
        "\n",
        "clf = LogisticRegression()\n",
        "scores = cross_val_score(clf, X_1hot, Y, cv=10)"
      ]
    },
    {
      "cell_type": "code",
      "source": [
        "clf.fit(X_1hot, Y)"
      ],
      "metadata": {
        "id": "UmEnUT5HuJGD",
        "outputId": "222b977c-9857-4409-8a37-8d3f62ec0639",
        "colab": {
          "base_uri": "https://localhost:8080/",
          "height": 75
        }
      },
      "id": "UmEnUT5HuJGD",
      "execution_count": 38,
      "outputs": [
        {
          "output_type": "execute_result",
          "data": {
            "text/plain": [
              "LogisticRegression()"
            ],
            "text/html": [
              "<style>#sk-container-id-3 {color: black;background-color: white;}#sk-container-id-3 pre{padding: 0;}#sk-container-id-3 div.sk-toggleable {background-color: white;}#sk-container-id-3 label.sk-toggleable__label {cursor: pointer;display: block;width: 100%;margin-bottom: 0;padding: 0.3em;box-sizing: border-box;text-align: center;}#sk-container-id-3 label.sk-toggleable__label-arrow:before {content: \"▸\";float: left;margin-right: 0.25em;color: #696969;}#sk-container-id-3 label.sk-toggleable__label-arrow:hover:before {color: black;}#sk-container-id-3 div.sk-estimator:hover label.sk-toggleable__label-arrow:before {color: black;}#sk-container-id-3 div.sk-toggleable__content {max-height: 0;max-width: 0;overflow: hidden;text-align: left;background-color: #f0f8ff;}#sk-container-id-3 div.sk-toggleable__content pre {margin: 0.2em;color: black;border-radius: 0.25em;background-color: #f0f8ff;}#sk-container-id-3 input.sk-toggleable__control:checked~div.sk-toggleable__content {max-height: 200px;max-width: 100%;overflow: auto;}#sk-container-id-3 input.sk-toggleable__control:checked~label.sk-toggleable__label-arrow:before {content: \"▾\";}#sk-container-id-3 div.sk-estimator input.sk-toggleable__control:checked~label.sk-toggleable__label {background-color: #d4ebff;}#sk-container-id-3 div.sk-label input.sk-toggleable__control:checked~label.sk-toggleable__label {background-color: #d4ebff;}#sk-container-id-3 input.sk-hidden--visually {border: 0;clip: rect(1px 1px 1px 1px);clip: rect(1px, 1px, 1px, 1px);height: 1px;margin: -1px;overflow: hidden;padding: 0;position: absolute;width: 1px;}#sk-container-id-3 div.sk-estimator {font-family: monospace;background-color: #f0f8ff;border: 1px dotted black;border-radius: 0.25em;box-sizing: border-box;margin-bottom: 0.5em;}#sk-container-id-3 div.sk-estimator:hover {background-color: #d4ebff;}#sk-container-id-3 div.sk-parallel-item::after {content: \"\";width: 100%;border-bottom: 1px solid gray;flex-grow: 1;}#sk-container-id-3 div.sk-label:hover label.sk-toggleable__label {background-color: #d4ebff;}#sk-container-id-3 div.sk-serial::before {content: \"\";position: absolute;border-left: 1px solid gray;box-sizing: border-box;top: 0;bottom: 0;left: 50%;z-index: 0;}#sk-container-id-3 div.sk-serial {display: flex;flex-direction: column;align-items: center;background-color: white;padding-right: 0.2em;padding-left: 0.2em;position: relative;}#sk-container-id-3 div.sk-item {position: relative;z-index: 1;}#sk-container-id-3 div.sk-parallel {display: flex;align-items: stretch;justify-content: center;background-color: white;position: relative;}#sk-container-id-3 div.sk-item::before, #sk-container-id-3 div.sk-parallel-item::before {content: \"\";position: absolute;border-left: 1px solid gray;box-sizing: border-box;top: 0;bottom: 0;left: 50%;z-index: -1;}#sk-container-id-3 div.sk-parallel-item {display: flex;flex-direction: column;z-index: 1;position: relative;background-color: white;}#sk-container-id-3 div.sk-parallel-item:first-child::after {align-self: flex-end;width: 50%;}#sk-container-id-3 div.sk-parallel-item:last-child::after {align-self: flex-start;width: 50%;}#sk-container-id-3 div.sk-parallel-item:only-child::after {width: 0;}#sk-container-id-3 div.sk-dashed-wrapped {border: 1px dashed gray;margin: 0 0.4em 0.5em 0.4em;box-sizing: border-box;padding-bottom: 0.4em;background-color: white;}#sk-container-id-3 div.sk-label label {font-family: monospace;font-weight: bold;display: inline-block;line-height: 1.2em;}#sk-container-id-3 div.sk-label-container {text-align: center;}#sk-container-id-3 div.sk-container {/* jupyter's `normalize.less` sets `[hidden] { display: none; }` but bootstrap.min.css set `[hidden] { display: none !important; }` so we also need the `!important` here to be able to override the default hidden behavior on the sphinx rendered scikit-learn.org. See: https://github.com/scikit-learn/scikit-learn/issues/21755 */display: inline-block !important;position: relative;}#sk-container-id-3 div.sk-text-repr-fallback {display: none;}</style><div id=\"sk-container-id-3\" class=\"sk-top-container\"><div class=\"sk-text-repr-fallback\"><pre>LogisticRegression()</pre><b>In a Jupyter environment, please rerun this cell to show the HTML representation or trust the notebook. <br />On GitHub, the HTML representation is unable to render, please try loading this page with nbviewer.org.</b></div><div class=\"sk-container\" hidden><div class=\"sk-item\"><div class=\"sk-estimator sk-toggleable\"><input class=\"sk-toggleable__control sk-hidden--visually\" id=\"sk-estimator-id-3\" type=\"checkbox\" checked><label for=\"sk-estimator-id-3\" class=\"sk-toggleable__label sk-toggleable__label-arrow\">LogisticRegression</label><div class=\"sk-toggleable__content\"><pre>LogisticRegression()</pre></div></div></div></div></div>"
            ]
          },
          "metadata": {},
          "execution_count": 38
        }
      ]
    },
    {
      "cell_type": "code",
      "execution_count": 34,
      "id": "50d89b88",
      "metadata": {
        "colab": {
          "base_uri": "https://localhost:8080/"
        },
        "id": "50d89b88",
        "outputId": "07f9fc05-432a-4585-c518-31102b2ba9ed"
      },
      "outputs": [
        {
          "output_type": "execute_result",
          "data": {
            "text/plain": [
              "array([0.97916667, 1.        , 0.98958333, 1.        , 1.        ,\n",
              "       0.96875   , 0.98958333, 1.        , 1.        , 0.83157895])"
            ]
          },
          "metadata": {},
          "execution_count": 34
        }
      ],
      "source": [
        "scores"
      ]
    },
    {
      "cell_type": "code",
      "execution_count": 35,
      "id": "875749d0",
      "metadata": {
        "colab": {
          "base_uri": "https://localhost:8080/"
        },
        "id": "875749d0",
        "outputId": "c5b3fbf3-9585-47b6-cdc1-e5564dc1d6ad"
      },
      "outputs": [
        {
          "output_type": "execute_result",
          "data": {
            "text/plain": [
              "0.9758662280701754"
            ]
          },
          "metadata": {},
          "execution_count": 35
        }
      ],
      "source": [
        "np.mean(scores)"
      ]
    },
    {
      "cell_type": "markdown",
      "id": "0d9e0ff8",
      "metadata": {
        "id": "0d9e0ff8"
      },
      "source": [
        "### Compute ROC AUC score"
      ]
    },
    {
      "cell_type": "code",
      "execution_count": 36,
      "id": "558cc467",
      "metadata": {
        "id": "558cc467"
      },
      "outputs": [],
      "source": [
        "from sklearn.metrics import roc_auc_score"
      ]
    },
    {
      "cell_type": "code",
      "execution_count": 40,
      "id": "f5682ab4",
      "metadata": {
        "colab": {
          "base_uri": "https://localhost:8080/"
        },
        "id": "f5682ab4",
        "outputId": "45ac9e1a-15df-4652-b6c3-24a1386d8e73"
      },
      "outputs": [
        {
          "output_type": "execute_result",
          "data": {
            "text/plain": [
              "array([[0.39894841, 0.60105159],\n",
              "       [0.26333762, 0.73666238],\n",
              "       [0.20104068, 0.79895932],\n",
              "       ...,\n",
              "       [0.39749716, 0.60250284],\n",
              "       [0.1530677 , 0.8469323 ],\n",
              "       [0.1530677 , 0.8469323 ]])"
            ]
          },
          "metadata": {},
          "execution_count": 40
        }
      ],
      "source": [
        "clf.predict_proba(X_1hot)"
      ]
    },
    {
      "cell_type": "code",
      "execution_count": 41,
      "id": "af209afb",
      "metadata": {
        "colab": {
          "base_uri": "https://localhost:8080/"
        },
        "id": "af209afb",
        "outputId": "259f41ca-edf3-4eee-e772-e1fd59c463c3"
      },
      "outputs": [
        {
          "output_type": "execute_result",
          "data": {
            "text/plain": [
              "array([0.60105159, 0.73666238, 0.79895932, 0.84730726, 0.7981908 ,\n",
              "       0.79895932, 0.73907995, 0.7981908 , 0.88821872, 0.84993141,\n",
              "       0.88774347, 0.91004345, 0.84614557, 0.91080701, 0.93551344,\n",
              "       0.95295538, 0.9352246 , 0.93551344, 0.91181723, 0.9352246 ,\n",
              "       0.73707159, 0.6037996 , 0.73888209, 0.80079592, 0.84878577,\n",
              "       0.80003266, 0.88087657, 0.84052595, 0.80079592, 0.841777  ,\n",
              "       0.80003266, 0.88135688, 0.91344575, 0.88935282, 0.85138897,\n",
              "       0.88888179, 0.93664963, 0.91333224, 0.88935282, 0.91407053,\n",
              "       0.88888179, 0.93692116, 0.95475332, 0.91333224, 0.85138897,\n",
              "       0.91407053, 0.93793456, 0.95475332, 0.93765585, 0.93511349,\n",
              "       0.91128426, 0.93482299, 0.79973932, 0.74001666, 0.79897303,\n",
              "       0.88018117, 0.83963788, 0.79973932, 0.84089457, 0.79897303,\n",
              "       0.8806639 , 0.91292169, 0.83963788, 0.74001666, 0.84089457,\n",
              "       0.88246773, 0.91292169, 0.88197128, 0.91280755, 0.85055064,\n",
              "       0.91354988, 0.93754863, 0.9544669 , 0.9372683 , 0.93754863,\n",
              "       0.91453195, 0.9372683 , 0.84587062, 0.60105159, 0.73666238,\n",
              "       0.79895932, 0.79895932, 0.73907995, 0.88821872, 0.84993141,\n",
              "       0.74936031, 0.84736054, 0.91080701, 0.84736054, 0.9167503 ,\n",
              "       0.93578951, 0.88747027, 0.91256718, 0.88699225, 0.93578951,\n",
              "       0.88680842, 0.91203831, 0.93539116, 0.84812065, 0.91203831,\n",
              "       0.84730726, 0.7981908 , 0.7981908 , 0.88774347, 0.9167503 ,\n",
              "       0.93578951, 0.91638493, 0.95316052, 0.88699225, 0.93578951,\n",
              "       0.88632794, 0.93539116, 0.91004345, 0.91080701, 0.73707159,\n",
              "       0.88087657, 0.84052595, 0.93664963, 0.91333224, 0.91333224,\n",
              "       0.91097831, 0.91173471, 0.91097831, 0.9500021 , 0.96427732,\n",
              "       0.91173471, 0.96443493, 0.96427732, 0.95059246, 0.95103036,\n",
              "       0.96443493, 0.74108967, 0.88255139, 0.91496745, 0.93759586,\n",
              "       0.96404892, 0.95028107, 0.95072159, 0.9642075 , 0.95028107,\n",
              "       0.95072159, 0.84242363, 0.91445174, 0.84614557, 0.74936031,\n",
              "       0.84736054, 0.88747027, 0.9167503 , 0.88699225, 0.91080701,\n",
              "       0.93551344, 0.84736054, 0.93578951, 0.93551344, 0.91181723,\n",
              "       0.91256718, 0.93578951, 0.6037996 , 0.80079592, 0.73888209,\n",
              "       0.80079592, 0.841777  , 0.88935282, 0.85138897, 0.88935282,\n",
              "       0.91407053, 0.85138897, 0.91407053, 0.93793456, 0.91173471,\n",
              "       0.84883863, 0.93647549, 0.91173471, 0.95103036, 0.93647549,\n",
              "       0.74108967, 0.91496745, 0.91295442, 0.9360811 , 0.95072159,\n",
              "       0.9360811 , 0.95072159, 0.91295442, 0.96495439, 0.84242363,\n",
              "       0.91445174, 0.9167503 , 0.88699225, 0.91638493, 0.95295538,\n",
              "       0.9352246 , 0.93578951, 0.95316052, 0.9352246 , 0.93578951,\n",
              "       0.80003266, 0.84878577, 0.88135688, 0.80003266, 0.91344575,\n",
              "       0.88888179, 0.88888179, 0.93692116, 0.95475332, 0.95475332,\n",
              "       0.93765585, 0.93647549, 0.95367011, 0.96443493, 0.95367011,\n",
              "       0.96443493, 0.93647549, 0.97481192, 0.88255139, 0.93759586,\n",
              "       0.9360811 , 0.9642075 , 0.9360811 , 0.9746491 , 0.96495439,\n",
              "       0.9746491 , 0.88186446, 0.88018117, 0.83963788, 0.83963788,\n",
              "       0.91280755, 0.96404892, 0.95028107, 0.95072159, 0.9642075 ,\n",
              "       0.95028107, 0.95072159, 0.84242363, 0.88186446, 0.91445174,\n",
              "       0.94996782, 0.95041096, 0.84154414, 0.88680842, 0.84812065,\n",
              "       0.88632794, 0.93511349, 0.91203831, 0.93539116, 0.91128426,\n",
              "       0.91203831, 0.79973932, 0.74001666, 0.79973932, 0.84089457,\n",
              "       0.74001666, 0.84089457, 0.88246773, 0.85055064, 0.91354988,\n",
              "       0.93754863, 0.93754863, 0.91453195, 0.91295442, 0.9360811 ,\n",
              "       0.95072159, 0.9360811 , 0.95072159, 0.91295442, 0.96495439,\n",
              "       0.84242363, 0.91445174, 0.91242767, 0.95041096, 0.91242767,\n",
              "       0.96473015, 0.95143125, 0.96473015, 0.84154414, 0.93482299,\n",
              "       0.93539116, 0.79897303, 0.79897303, 0.8806639 , 0.91292169,\n",
              "       0.91292169, 0.88197128, 0.9544669 , 0.9372683 , 0.9372683 ,\n",
              "       0.9360811 , 0.9642075 , 0.9360811 , 0.9746491 , 0.96495439,\n",
              "       0.9746491 , 0.96473015, 0.97448526, 0.96473015, 0.84421152,\n",
              "       0.746574  , 0.60250284, 0.84571455, 0.84571455, 0.91053799,\n",
              "       0.93531364, 0.91649755, 0.93531364, 0.91155095, 0.88666033,\n",
              "       0.73824353, 0.80099974, 0.88947854, 0.93491254, 0.91101653,\n",
              "       0.88647603, 0.88599432, 0.91101653, 0.84769417, 0.74118009,\n",
              "       0.79994395, 0.8513188 , 0.746574  , 0.61560665, 0.74834141,\n",
              "       0.80859336, 0.85504477, 0.80785281, 0.74834141, 0.85504477,\n",
              "       0.80859336, 0.80785281, 0.60250284, 0.74873866, 0.85646105,\n",
              "       0.8469323 , 0.88713958, 0.88759786, 0.60524742, 0.85215358,\n",
              "       0.80934489, 0.80860656, 0.88647603, 0.88693666, 0.84769417,\n",
              "       0.84889909, 0.91765739, 0.74118009, 0.8513188 , 0.85504477,\n",
              "       0.80785281, 0.85445159, 0.85504477, 0.85445159, 0.80785281,\n",
              "       0.85587269, 0.91649755, 0.91684779, 0.88666033, 0.93999117,\n",
              "       0.80099974, 0.88947854, 0.80860656, 0.88599432, 0.88693666,\n",
              "       0.9396172 , 0.91765739, 0.91729565, 0.79994395, 0.84571455,\n",
              "       0.74873866, 0.8469323 , 0.88713958, 0.91649755, 0.88666033,\n",
              "       0.84571455, 0.91053799, 0.93531364, 0.93531364, 0.91155095,\n",
              "       0.60524742, 0.80099974, 0.73824353, 0.85215358, 0.88947854,\n",
              "       0.8472057 , 0.91146821, 0.93600435, 0.93627846, 0.91146821,\n",
              "       0.93600435, 0.95087612, 0.74045461, 0.9147098 , 0.89060143,\n",
              "       0.9147098 , 0.93560725, 0.91194226, 0.91269125, 0.93588294,\n",
              "       0.93560725, 0.95056642, 0.91194226, 0.95056642, 0.96468651,\n",
              "       0.84198413, 0.80177378, 0.84198413, 0.91419267, 0.85276522,\n",
              "       0.93829111, 0.91419267, 0.91649755, 0.88666033, 0.85646105,\n",
              "       0.88759786, 0.85587269, 0.91684779, 0.93999117, 0.80099974,\n",
              "       0.88947854, 0.93627846, 0.89060143, 0.93588294, 0.80177378,\n",
              "       0.93829111, 0.88647603, 0.84769417, 0.88599432, 0.93491254,\n",
              "       0.91101653, 0.91101653, 0.74118009, 0.79994395, 0.8513188 ,\n",
              "       0.93560725, 0.91194226, 0.93588294, 0.93560725, 0.95056642,\n",
              "       0.91194226, 0.95056642, 0.96468651, 0.84198413, 0.80177378,\n",
              "       0.84198413, 0.91419267, 0.93829111, 0.91419267, 0.91140997,\n",
              "       0.91216306, 0.91140997, 0.95025487, 0.96446062, 0.96446062,\n",
              "       0.9508424 , 0.84110264, 0.7421119 , 0.8831032 , 0.84110264,\n",
              "       0.91538156, 0.93790725, 0.88647603, 0.84769417, 0.80934489,\n",
              "       0.84889909, 0.80860656, 0.88693666, 0.91765739, 0.74118009,\n",
              "       0.8513188 , 0.91269125, 0.85276522, 0.91216306, 0.7421119 ,\n",
              "       0.91538156, 0.88599432, 0.80860656, 0.88693666, 0.91765739,\n",
              "       0.9396172 , 0.91729565, 0.79994395, 0.93588294, 0.80177378,\n",
              "       0.93829111, 0.8831032 , 0.93790725, 0.95288583, 0.93513063,\n",
              "       0.91663191, 0.91626607, 0.93513063, 0.88683677, 0.80127964,\n",
              "       0.84917491, 0.88965114, 0.93472848, 0.88617167, 0.80022496,\n",
              "       0.85526239, 0.80812538, 0.85466995, 0.85526239, 0.80812538,\n",
              "       0.8566769 , 0.85608928, 0.91663191, 0.91698164, 0.88683677,\n",
              "       0.88777302, 0.9400902 , 0.80127964, 0.88965114, 0.80887832,\n",
              "       0.88711272, 0.93971681, 0.91779005, 0.91742884, 0.80022496,\n",
              "       0.85466995, 0.85608928, 0.91626607, 0.91698164, 0.956352  ,\n",
              "       0.9400902 , 0.93982054, 0.93971681, 0.93944558, 0.91742884,\n",
              "       0.91663191, 0.88683677, 0.91626607, 0.95288583, 0.93513063,\n",
              "       0.93513063, 0.80127964, 0.88965114, 0.95339826, 0.93582317,\n",
              "       0.9363832 , 0.95360157, 0.95339826, 0.96438172, 0.93582317,\n",
              "       0.96438172, 0.97466084, 0.88239061, 0.85063852, 0.88239061,\n",
              "       0.93750509, 0.89077249, 0.95537597, 0.93750509, 0.93542501,\n",
              "       0.93598829, 0.93542501, 0.96415396, 0.97449706, 0.97449706,\n",
              "       0.96458345, 0.80205287, 0.91406817, 0.88170286, 0.93839276,\n",
              "       0.9550933 , 0.91663191, 0.88683677, 0.8566769 , 0.88777302,\n",
              "       0.85608928, 0.91698164, 0.9400902 , 0.80127964, 0.88965114,\n",
              "       0.9363832 , 0.89077249, 0.93598829, 0.80205287, 0.93839276,\n",
              "       0.91626607, 0.85608928, 0.91698164, 0.9400902 , 0.956352  ,\n",
              "       0.93982054, 0.84917491, 0.95360157, 0.85063852, 0.95537597,\n",
              "       0.91406817, 0.9550933 , 0.93472848, 0.80022496, 0.93542501,\n",
              "       0.93598829, 0.93542501, 0.96415396, 0.97449706, 0.97449706,\n",
              "       0.96458345, 0.88170286, 0.80205287, 0.91406817, 0.93839276,\n",
              "       0.9550933 , 0.97433226, 0.96435693, 0.96435693, 0.88328445,\n",
              "       0.91354752, 0.93800949, 0.88617167, 0.80887832, 0.88711272,\n",
              "       0.91779005, 0.93971681, 0.91742884, 0.80022496, 0.93598829,\n",
              "       0.80205287, 0.93839276, 0.88328445, 0.93800949, 0.93971681,\n",
              "       0.91742884, 0.93944558, 0.91406817, 0.9550933 , 0.91354752,\n",
              "       0.16354063, 0.21445404, 0.16354063, 0.07064207, 0.05139367,\n",
              "       0.07064207, 0.09140206, 0.07032904, 0.05139367, 0.09140206,\n",
              "       0.12504217, 0.09773861, 0.09773861, 0.2214164 , 0.26675253,\n",
              "       0.07139905, 0.09235939, 0.12390998, 0.15766834, 0.1244086 ,\n",
              "       0.09235939, 0.1677507 , 0.16420697, 0.26546155, 0.3402732 ,\n",
              "       0.05163128, 0.09180673, 0.1255752 , 0.09102903, 0.09180673,\n",
              "       0.1255752 , 0.15970453, 0.27350334, 0.22225589, 0.21445404,\n",
              "       0.07032904, 0.2214164 , 0.21639324, 0.12339225, 0.20720645,\n",
              "       0.2707665 , 0.1244086 , 0.21987666, 0.27167282, 0.3402732 ,\n",
              "       0.22225589, 0.26675253, 0.12390998, 0.12339225, 0.20720645,\n",
              "       0.15766834, 0.2707665 , 0.1677507 , 0.20834028, 0.20834028,\n",
              "       0.2583187 , 0.20909756, 0.2583187 , 0.26770481, 0.15707162,\n",
              "       0.2717278 , 0.25705423, 0.32954891, 0.33056281, 0.21639324,\n",
              "       0.07139905, 0.09235939, 0.1244086 , 0.09235939, 0.26770481,\n",
              "       0.15831528, 0.09276787, 0.1244086 , 0.21987666, 0.27167282,\n",
              "       0.20909756, 0.2717278 , 0.27263614, 0.33056281, 0.26546155,\n",
              "       0.09102903, 0.27350334, 0.26770481, 0.15707162, 0.25705423,\n",
              "       0.32954891, 0.15831528, 0.2717278 , 0.33056281, 0.4057493 ,\n",
              "       0.2744707 , 0.16420697, 0.3402732 , 0.05163128, 0.09180673,\n",
              "       0.1255752 , 0.09180673, 0.1255752 , 0.15970453, 0.22225589,\n",
              "       0.26770481, 0.09276787, 0.4057493 , 0.34136575, 0.12611017,\n",
              "       0.16035823, 0.16035823, 0.2744707 , 0.3402732 , 0.22225589,\n",
              "       0.2717278 , 0.33056281, 0.27263614, 0.34136575, 0.16308874,\n",
              "       0.05123268, 0.07011312, 0.09035526, 0.07011312, 0.09035526,\n",
              "       0.05123268, 0.12416031, 0.09744736, 0.21664273, 0.16466083,\n",
              "       0.26793872, 0.26793872, 0.34208964, 0.09130273, 0.0711801 ,\n",
              "       0.07086487, 0.12355142, 0.15722962, 0.1240488 , 0.09130273,\n",
              "       0.09208253, 0.09846114, 0.22365591, 0.16859788, 0.22365591,\n",
              "       0.27602734, 0.1637536 , 0.09075576, 0.05146959, 0.12469011,\n",
              "       0.09075576, 0.15801153, 0.12469011, 0.16308874, 0.05123268,\n",
              "       0.03955684, 0.05168972, 0.03937572, 0.05123268, 0.05168972,\n",
              "       0.09744736, 0.16595275, 0.0992954 , 0.05146959, 0.05192862,\n",
              "       0.07011312, 0.03937572, 0.09715374, 0.07011312, 0.12416031,\n",
              "       0.09715374, 0.2174219 , 0.28299695, 0.34312237, 0.07086487,\n",
              "       0.07148384, 0.17944162, 0.22445308, 0.22445308, 0.12469011,\n",
              "       0.09758114, 0.12469011, 0.12355142, 0.09130273, 0.07086487,\n",
              "       0.09130273, 0.15722962, 0.21859622, 0.27019521, 0.09170701,\n",
              "       0.21664273, 0.26793872, 0.2174219 , 0.16466083, 0.26793872,\n",
              "       0.34208964, 0.16595275, 0.28299695, 0.34312237, 0.0711801 ,\n",
              "       0.09208253, 0.07148384, 0.09846114, 0.16859788, 0.22365591,\n",
              "       0.0992954 , 0.17944162, 0.22445308, 0.22365591, 0.27602734,\n",
              "       0.22445308, 0.21859622, 0.27019521, 0.21938045, 0.16533084,\n",
              "       0.26889368, 0.34318499, 0.16662696, 0.28398476, 0.3442193 ,\n",
              "       0.34318499, 0.40880699, 0.3442193 , 0.22450145, 0.27700023,\n",
              "       0.22530076, 0.07086487, 0.1240488 , 0.21938045, 0.09075576,\n",
              "       0.05146959, 0.12469011, 0.09075576, 0.15801153, 0.12469011,\n",
              "       0.16533084, 0.34318499, 0.26889368, 0.34318499, 0.40880699,\n",
              "       0.09170701, 0.22450145, 0.27700023, 0.15865961, 0.12522185,\n",
              "       0.15865961, 0.1637536 , 0.05146959, 0.05192862, 0.16662696,\n",
              "       0.12469011, 0.09758114, 0.12469011, 0.28398476, 0.3442193 ,\n",
              "       0.3442193 , 0.22530076, 0.12522185, 0.214193  , 0.07022776,\n",
              "       0.22114928, 0.2161305 , 0.12322467, 0.20695191, 0.27046052,\n",
              "       0.12423984, 0.21961088, 0.2713662 , 0.33992529, 0.22198805,\n",
              "       0.214193  , 0.28006516, 0.03944223, 0.07084159, 0.09772844,\n",
              "       0.07022776, 0.07084159, 0.09772844, 0.12537461, 0.22114928,\n",
              "       0.17731734, 0.07160054, 0.33992529, 0.0981581 , 0.12590885,\n",
              "       0.12590885, 0.22198805, 0.28006516, 0.17731734, 0.21961088,\n",
              "       0.2713662 , 0.22039772, 0.28104676, 0.12322467, 0.21961088,\n",
              "       0.20695191, 0.27046052, 0.2713662 , 0.27142114, 0.33021985,\n",
              "       0.2161305 , 0.12423984, 0.07160054, 0.21961088, 0.22039772,\n",
              "       0.2713662 , 0.27232884, 0.33992529, 0.22198805, 0.27142114,\n",
              "       0.33021985, 0.27232884, 0.3410173 , 0.33992529, 0.28104676,\n",
              "       0.0981581 , 0.12590885, 0.12590885, 0.22198805, 0.3410173 ,\n",
              "       0.12644504, 0.84614557, 0.6037996 , 0.73888209, 0.84614557,\n",
              "       0.6037996 , 0.73888209, 0.84763331, 0.73928907, 0.84763331,\n",
              "       0.84543897, 0.73602033, 0.60250284, 0.84543897, 0.60250284,\n",
              "       0.8469323 , 0.8469323 ])"
            ]
          },
          "metadata": {},
          "execution_count": 41
        }
      ],
      "source": [
        "clf.predict_proba(X_1hot)[:, 1]"
      ]
    },
    {
      "cell_type": "code",
      "execution_count": 42,
      "id": "463a0ce2",
      "metadata": {
        "id": "463a0ce2"
      },
      "outputs": [],
      "source": [
        "y_prob = clf.predict_proba(X_1hot)[:, 1]"
      ]
    },
    {
      "cell_type": "code",
      "execution_count": 43,
      "id": "cfd52c1e",
      "metadata": {
        "colab": {
          "base_uri": "https://localhost:8080/"
        },
        "id": "cfd52c1e",
        "outputId": "ae8536cc-024c-4d7e-ceae-7c65c8bb31f3"
      },
      "outputs": [
        {
          "output_type": "execute_result",
          "data": {
            "text/plain": [
              "0.9943710843373493"
            ]
          },
          "metadata": {},
          "execution_count": 43
        }
      ],
      "source": [
        "roc_auc_score(Y, y_prob)"
      ]
    },
    {
      "cell_type": "markdown",
      "id": "7e7eb32e-2328-4aa6-9d7f-5f4122bf0035",
      "metadata": {
        "id": "7e7eb32e-2328-4aa6-9d7f-5f4122bf0035"
      },
      "source": [
        "### Show confusion matrix"
      ]
    },
    {
      "cell_type": "code",
      "execution_count": 44,
      "id": "82b37b0d-31a4-4280-b750-13bc0e5f37c8",
      "metadata": {
        "id": "82b37b0d-31a4-4280-b750-13bc0e5f37c8"
      },
      "outputs": [],
      "source": [
        "import matplotlib.pyplot as plt\n",
        "\n",
        "from sklearn.metrics import confusion_matrix, ConfusionMatrixDisplay"
      ]
    },
    {
      "cell_type": "code",
      "execution_count": 45,
      "id": "4113e169-91df-424a-8a6b-4a5c4980512e",
      "metadata": {
        "id": "4113e169-91df-424a-8a6b-4a5c4980512e"
      },
      "outputs": [],
      "source": [
        "cm = confusion_matrix(Y_test, y_pred, labels=clf.classes_)"
      ]
    },
    {
      "cell_type": "code",
      "execution_count": 46,
      "id": "9d98ec8a-391d-4e87-b850-482ebb3ce01f",
      "metadata": {
        "colab": {
          "base_uri": "https://localhost:8080/"
        },
        "id": "9d98ec8a-391d-4e87-b850-482ebb3ce01f",
        "outputId": "48cf9db6-7452-4956-e747-07f486639901"
      },
      "outputs": [
        {
          "output_type": "execute_result",
          "data": {
            "text/plain": [
              "array([[ 99,   3],\n",
              "       [  5, 209]])"
            ]
          },
          "metadata": {},
          "execution_count": 46
        }
      ],
      "source": [
        "cm "
      ]
    },
    {
      "cell_type": "code",
      "execution_count": 47,
      "id": "4ed1f53c-fec1-4a4e-a04c-74f287a49922",
      "metadata": {
        "id": "4ed1f53c-fec1-4a4e-a04c-74f287a49922"
      },
      "outputs": [],
      "source": [
        "disp = ConfusionMatrixDisplay(confusion_matrix=cm, display_labels=clf.classes_)"
      ]
    },
    {
      "cell_type": "code",
      "execution_count": 48,
      "id": "535d8b13-34d2-496f-9bd0-e8812555135a",
      "metadata": {
        "colab": {
          "base_uri": "https://localhost:8080/",
          "height": 467
        },
        "id": "535d8b13-34d2-496f-9bd0-e8812555135a",
        "outputId": "a0f315ef-9321-4c7e-f663-64cedf837c6b"
      },
      "outputs": [
        {
          "output_type": "execute_result",
          "data": {
            "text/plain": [
              "<sklearn.metrics._plot.confusion_matrix.ConfusionMatrixDisplay at 0x7fba89177c10>"
            ]
          },
          "metadata": {},
          "execution_count": 48
        },
        {
          "output_type": "display_data",
          "data": {
            "text/plain": [
              "<Figure size 640x480 with 2 Axes>"
            ],
            "image/png": "[encoded data removed]"
          },
          "metadata": {}
        }
      ],
      "source": [
        "disp.plot()"
      ]
    },
    {
      "cell_type": "markdown",
      "id": "68ea9f6d-ae25-4dfd-adb7-ae115f226af1",
      "metadata": {
        "id": "68ea9f6d-ae25-4dfd-adb7-ae115f226af1"
      },
      "source": [
        "### Wrap last steps into a function"
      ]
    },
    {
      "cell_type": "code",
      "execution_count": 49,
      "id": "852e8ebf-2d62-414a-a599-4fb90742036b",
      "metadata": {
        "id": "852e8ebf-2d62-414a-a599-4fb90742036b"
      },
      "outputs": [],
      "source": [
        "def train_and_evaluate_classifier(clf, X_train, Y_train, X_test, Y_test):\n",
        "    clf.fit(X_train, Y_train)\n",
        "    y_pred = clf.predict(X_test)\n",
        "    \n",
        "    print(f'Accuracy: {accuracy_score(Y_test, y_pred)}')\n",
        "    \n",
        "    y_probs = clf.predict_proba(X_test)[:, 1]\n",
        "    print(f'ROC AUC score: {roc_auc_score(Y_test, y_probs)}')\n",
        "    \n",
        "    cm = confusion_matrix(Y_test, y_pred, labels=clf.classes_)\n",
        "    disp = ConfusionMatrixDisplay(confusion_matrix=cm, display_labels=clf.classes_)\n",
        "    disp.plot()"
      ]
    },
    {
      "cell_type": "code",
      "execution_count": 50,
      "id": "5f0cdb5a-eaaa-4e69-bf7b-f4e4c5070528",
      "metadata": {
        "colab": {
          "base_uri": "https://localhost:8080/",
          "height": 486
        },
        "id": "5f0cdb5a-eaaa-4e69-bf7b-f4e4c5070528",
        "outputId": "049a1675-2ba0-420f-b99c-d4371dd89502"
      },
      "outputs": [
        {
          "output_type": "stream",
          "name": "stdout",
          "text": [
            "Accuracy: 0.9746835443037974\n",
            "ROC AUC score: 0.9953271028037384\n"
          ]
        },
        {
          "output_type": "display_data",
          "data": {
            "text/plain": [
              "<Figure size 640x480 with 2 Axes>"
            ],
            "image/png": "[encoded data removed]"
          },
          "metadata": {}
        }
      ],
      "source": [
        "train_and_evaluate_classifier( LogisticRegression(random_state=0), X_train, Y_train, X_test, Y_test)"
      ]
    },
    {
      "cell_type": "code",
      "execution_count": 51,
      "id": "c21230b1-d4f5-46b3-9524-be36bbcb8b7f",
      "metadata": {
        "colab": {
          "base_uri": "https://localhost:8080/",
          "height": 486
        },
        "id": "c21230b1-d4f5-46b3-9524-be36bbcb8b7f",
        "outputId": "8cb45e4c-5ddb-44a6-d044-f2109ce69d96"
      },
      "outputs": [
        {
          "output_type": "stream",
          "name": "stdout",
          "text": [
            "Accuracy: 0.8924050632911392\n",
            "ROC AUC score: 0.9408786879237676\n"
          ]
        },
        {
          "output_type": "display_data",
          "data": {
            "text/plain": [
              "<Figure size 640x480 with 2 Axes>"
            ],
            "image/png": "[encoded data removed]"
          },
          "metadata": {}
        }
      ],
      "source": [
        "from sklearn.neighbors import KNeighborsClassifier\n",
        "\n",
        "train_and_evaluate_classifier( KNeighborsClassifier(n_neighbors=3), X_train, Y_train, X_test, Y_test)"
      ]
    },
    {
      "cell_type": "code",
      "execution_count": 52,
      "id": "9e760efc-2435-42e3-bbc5-bcd162e1c6ba",
      "metadata": {
        "colab": {
          "base_uri": "https://localhost:8080/",
          "height": 486
        },
        "id": "9e760efc-2435-42e3-bbc5-bcd162e1c6ba",
        "outputId": "86978874-7fcf-455c-8801-6fae6242f904"
      },
      "outputs": [
        {
          "output_type": "stream",
          "name": "stdout",
          "text": [
            "Accuracy: 0.819620253164557\n",
            "ROC AUC score: 0.7718984790177753\n"
          ]
        },
        {
          "output_type": "display_data",
          "data": {
            "text/plain": [
              "<Figure size 640x480 with 2 Axes>"
            ],
            "image/png": "[encoded data removed]"
          },
          "metadata": {}
        }
      ],
      "source": [
        "train_and_evaluate_classifier( KNeighborsClassifier(n_neighbors=1), X_train, Y_train, X_test, Y_test)"
      ]
    },
    {
      "cell_type": "code",
      "execution_count": 52,
      "id": "8d9f981b-183e-472b-b5f5-09d35fe9d209",
      "metadata": {
        "id": "8d9f981b-183e-472b-b5f5-09d35fe9d209"
      },
      "outputs": [],
      "source": []
    },
    {
      "cell_type": "code",
      "execution_count": 52,
      "id": "27370bef",
      "metadata": {
        "id": "27370bef"
      },
      "outputs": [],
      "source": []
    }
  ],
  "metadata": {
    "kernelspec": {
      "display_name": "Python 3 (ipykernel)",
      "language": "python",
      "name": "python3"
    },
    "language_info": {
      "codemirror_mode": {
        "name": "ipython",
        "version": 3
      },
      "file_extension": ".py",
      "mimetype": "text/x-python",
      "name": "python",
      "nbconvert_exporter": "python",
      "pygments_lexer": "ipython3",
      "version": "3.9.12"
    },
    "colab": {
      "provenance": [],
      "include_colab_link": true
    }
  },
  "nbformat": 4,
  "nbformat_minor": 5
}